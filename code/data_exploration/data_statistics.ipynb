{
 "cells": [
  {
   "cell_type": "markdown",
   "metadata": {},
   "source": [
    "# Supplementary Material: data statistics"
   ]
  },
  {
   "cell_type": "code",
   "execution_count": 19,
   "metadata": {},
   "outputs": [],
   "source": [
    "import pandas as pd\n",
    "import csv\n",
    "import numpy as np"
   ]
  },
  {
   "cell_type": "code",
   "execution_count": null,
   "metadata": {},
   "outputs": [],
   "source": []
  },
  {
   "cell_type": "code",
   "execution_count": 20,
   "metadata": {},
   "outputs": [],
   "source": [
    "our_data = '../../preprocessed/reviews_master_no_text.csv'\n",
    "our_df = pd.read_csv(our_data)"
   ]
  },
  {
   "cell_type": "code",
   "execution_count": 21,
   "metadata": {},
   "outputs": [
    {
     "data": {
      "text/plain": [
       "Index(['company_id', 'date', 'employee_status', 'employee_title', 'location',\n",
       "       'post_index', 'rating_overall', 'stress_post', 'company_name',\n",
       "       'post_id', 'state', 'Region', 'Division', 'GICSSector',\n",
       "       'GICSSubIndustry', 'Headquarters Location', 'quarter', 'year',\n",
       "       'half-year'],\n",
       "      dtype='object')"
      ]
     },
     "execution_count": 21,
     "metadata": {},
     "output_type": "execute_result"
    }
   ],
   "source": [
    "our_df.columns"
   ]
  },
  {
   "cell_type": "code",
   "execution_count": 22,
   "metadata": {},
   "outputs": [
    {
     "data": {
      "text/html": [
       "<div>\n",
       "<style scoped>\n",
       "    .dataframe tbody tr th:only-of-type {\n",
       "        vertical-align: middle;\n",
       "    }\n",
       "\n",
       "    .dataframe tbody tr th {\n",
       "        vertical-align: top;\n",
       "    }\n",
       "\n",
       "    .dataframe thead th {\n",
       "        text-align: right;\n",
       "    }\n",
       "</style>\n",
       "<table border=\"1\" class=\"dataframe\">\n",
       "  <thead>\n",
       "    <tr style=\"text-align: right;\">\n",
       "      <th></th>\n",
       "      <th>company_id</th>\n",
       "      <th>date</th>\n",
       "      <th>employee_status</th>\n",
       "      <th>employee_title</th>\n",
       "      <th>location</th>\n",
       "      <th>post_index</th>\n",
       "      <th>rating_overall</th>\n",
       "      <th>stress_post</th>\n",
       "      <th>company_name</th>\n",
       "      <th>post_id</th>\n",
       "      <th>state</th>\n",
       "      <th>Region</th>\n",
       "      <th>Division</th>\n",
       "      <th>GICSSector</th>\n",
       "      <th>GICSSubIndustry</th>\n",
       "      <th>Headquarters Location</th>\n",
       "      <th>quarter</th>\n",
       "      <th>year</th>\n",
       "      <th>half-year</th>\n",
       "    </tr>\n",
       "  </thead>\n",
       "  <tbody>\n",
       "    <tr>\n",
       "      <th>0</th>\n",
       "      <td>1_comerica</td>\n",
       "      <td>Wed May 06 2020 07:27:34 GMT+0100 (British Sum...</td>\n",
       "      <td>Current Employee</td>\n",
       "      <td>Analyst</td>\n",
       "      <td>Dallas, TX</td>\n",
       "      <td>1.0</td>\n",
       "      <td>5.0</td>\n",
       "      <td>0.0</td>\n",
       "      <td>comerica</td>\n",
       "      <td>1_comerica</td>\n",
       "      <td>TX</td>\n",
       "      <td>South</td>\n",
       "      <td>West South Central</td>\n",
       "      <td>Financials</td>\n",
       "      <td>Diversified Banks</td>\n",
       "      <td>Dallas, Texas</td>\n",
       "      <td>2020 Q2</td>\n",
       "      <td>2020</td>\n",
       "      <td>2020 1st-half</td>\n",
       "    </tr>\n",
       "    <tr>\n",
       "      <th>1</th>\n",
       "      <td>4_comerica</td>\n",
       "      <td>Tue Mar 10 2020 09:03:58 GMT+0000 (Greenwich M...</td>\n",
       "      <td>Former Employee</td>\n",
       "      <td>Customer Service Representative</td>\n",
       "      <td>Dallas, TX</td>\n",
       "      <td>4.0</td>\n",
       "      <td>4.0</td>\n",
       "      <td>0.0</td>\n",
       "      <td>comerica</td>\n",
       "      <td>4_comerica</td>\n",
       "      <td>TX</td>\n",
       "      <td>South</td>\n",
       "      <td>West South Central</td>\n",
       "      <td>Financials</td>\n",
       "      <td>Diversified Banks</td>\n",
       "      <td>Dallas, Texas</td>\n",
       "      <td>2020 Q1</td>\n",
       "      <td>2020</td>\n",
       "      <td>2020 1st-half</td>\n",
       "    </tr>\n",
       "    <tr>\n",
       "      <th>2</th>\n",
       "      <td>7_comerica</td>\n",
       "      <td>Wed Mar 11 2020 22:53:11 GMT+0000 (Greenwich M...</td>\n",
       "      <td>Former Employee</td>\n",
       "      <td>Bank Teller</td>\n",
       "      <td>Dallas, TX</td>\n",
       "      <td>7.0</td>\n",
       "      <td>2.0</td>\n",
       "      <td>0.0</td>\n",
       "      <td>comerica</td>\n",
       "      <td>7_comerica</td>\n",
       "      <td>TX</td>\n",
       "      <td>South</td>\n",
       "      <td>West South Central</td>\n",
       "      <td>Financials</td>\n",
       "      <td>Diversified Banks</td>\n",
       "      <td>Dallas, Texas</td>\n",
       "      <td>2020 Q1</td>\n",
       "      <td>2020</td>\n",
       "      <td>2020 1st-half</td>\n",
       "    </tr>\n",
       "    <tr>\n",
       "      <th>3</th>\n",
       "      <td>14_comerica</td>\n",
       "      <td>Tue Jan 28 2020 12:53:30 GMT+0000 (Greenwich M...</td>\n",
       "      <td>Former Employee</td>\n",
       "      <td>Senior Underwriter</td>\n",
       "      <td>Houston, TX</td>\n",
       "      <td>14.0</td>\n",
       "      <td>4.0</td>\n",
       "      <td>0.0</td>\n",
       "      <td>comerica</td>\n",
       "      <td>14_comerica</td>\n",
       "      <td>TX</td>\n",
       "      <td>South</td>\n",
       "      <td>West South Central</td>\n",
       "      <td>Financials</td>\n",
       "      <td>Diversified Banks</td>\n",
       "      <td>Dallas, Texas</td>\n",
       "      <td>2020 Q1</td>\n",
       "      <td>2020</td>\n",
       "      <td>2020 1st-half</td>\n",
       "    </tr>\n",
       "    <tr>\n",
       "      <th>4</th>\n",
       "      <td>20_comerica</td>\n",
       "      <td>Sun Jan 12 2020 00:05:37 GMT+0000 (Greenwich M...</td>\n",
       "      <td>Former Employee</td>\n",
       "      <td>Commissioning Engineer</td>\n",
       "      <td>Houston, TX</td>\n",
       "      <td>20.0</td>\n",
       "      <td>2.0</td>\n",
       "      <td>0.0</td>\n",
       "      <td>comerica</td>\n",
       "      <td>20_comerica</td>\n",
       "      <td>TX</td>\n",
       "      <td>South</td>\n",
       "      <td>West South Central</td>\n",
       "      <td>Financials</td>\n",
       "      <td>Diversified Banks</td>\n",
       "      <td>Dallas, Texas</td>\n",
       "      <td>2020 Q1</td>\n",
       "      <td>2020</td>\n",
       "      <td>2020 1st-half</td>\n",
       "    </tr>\n",
       "  </tbody>\n",
       "</table>\n",
       "</div>"
      ],
      "text/plain": [
       "    company_id                                               date  \\\n",
       "0   1_comerica  Wed May 06 2020 07:27:34 GMT+0100 (British Sum...   \n",
       "1   4_comerica  Tue Mar 10 2020 09:03:58 GMT+0000 (Greenwich M...   \n",
       "2   7_comerica  Wed Mar 11 2020 22:53:11 GMT+0000 (Greenwich M...   \n",
       "3  14_comerica  Tue Jan 28 2020 12:53:30 GMT+0000 (Greenwich M...   \n",
       "4  20_comerica  Sun Jan 12 2020 00:05:37 GMT+0000 (Greenwich M...   \n",
       "\n",
       "     employee_status                    employee_title     location  \\\n",
       "0  Current Employee                            Analyst   Dallas, TX   \n",
       "1   Former Employee    Customer Service Representative   Dallas, TX   \n",
       "2   Former Employee                        Bank Teller   Dallas, TX   \n",
       "3   Former Employee                 Senior Underwriter  Houston, TX   \n",
       "4   Former Employee             Commissioning Engineer  Houston, TX   \n",
       "\n",
       "   post_index  rating_overall  stress_post company_name      post_id state  \\\n",
       "0         1.0             5.0          0.0     comerica   1_comerica    TX   \n",
       "1         4.0             4.0          0.0     comerica   4_comerica    TX   \n",
       "2         7.0             2.0          0.0     comerica   7_comerica    TX   \n",
       "3        14.0             4.0          0.0     comerica  14_comerica    TX   \n",
       "4        20.0             2.0          0.0     comerica  20_comerica    TX   \n",
       "\n",
       "  Region            Division  GICSSector    GICSSubIndustry  \\\n",
       "0  South  West South Central  Financials  Diversified Banks   \n",
       "1  South  West South Central  Financials  Diversified Banks   \n",
       "2  South  West South Central  Financials  Diversified Banks   \n",
       "3  South  West South Central  Financials  Diversified Banks   \n",
       "4  South  West South Central  Financials  Diversified Banks   \n",
       "\n",
       "  Headquarters Location  quarter  year      half-year  \n",
       "0         Dallas, Texas  2020 Q2  2020  2020 1st-half  \n",
       "1         Dallas, Texas  2020 Q1  2020  2020 1st-half  \n",
       "2         Dallas, Texas  2020 Q1  2020  2020 1st-half  \n",
       "3         Dallas, Texas  2020 Q1  2020  2020 1st-half  \n",
       "4         Dallas, Texas  2020 Q1  2020  2020 1st-half  "
      ]
     },
     "execution_count": 22,
     "metadata": {},
     "output_type": "execute_result"
    }
   ],
   "source": [
    "our_df.head()"
   ]
  },
  {
   "cell_type": "code",
   "execution_count": null,
   "metadata": {},
   "outputs": [],
   "source": []
  },
  {
   "cell_type": "code",
   "execution_count": 23,
   "metadata": {},
   "outputs": [],
   "source": [
    "our_df2 = our_df.copy()"
   ]
  },
  {
   "cell_type": "code",
   "execution_count": null,
   "metadata": {},
   "outputs": [],
   "source": []
  },
  {
   "cell_type": "code",
   "execution_count": 24,
   "metadata": {},
   "outputs": [
    {
     "data": {
      "text/plain": [
       "399"
      ]
     },
     "execution_count": 24,
     "metadata": {},
     "output_type": "execute_result"
    }
   ],
   "source": [
    "len(list(our_df2['company_name'].unique()))"
   ]
  },
  {
   "cell_type": "code",
   "execution_count": 25,
   "metadata": {},
   "outputs": [
    {
     "name": "stdout",
     "output_type": "stream",
     "text": [
      "\\begin{tabular}{lrr}\n",
      "\\toprule\n",
      "state &  number of reviews &  offices \\\\\n",
      "\\midrule\n",
      "   CA &              69968 &      340 \\\\\n",
      "   TX &              43629 &      342 \\\\\n",
      "   NY &              37515 &      313 \\\\\n",
      "   IL &              25157 &      290 \\\\\n",
      "   FL &              24082 &      283 \\\\\n",
      "   GA &              17888 &      275 \\\\\n",
      "   WA &              15672 &      239 \\\\\n",
      "   NC &              14072 &      268 \\\\\n",
      "   PA &              14064 &      271 \\\\\n",
      "   OH &              12447 &      263 \\\\\n",
      "   MA &              12355 &      253 \\\\\n",
      "   AZ &              11834 &      228 \\\\\n",
      "   NJ &              11561 &      245 \\\\\n",
      "   VA &              11320 &      235 \\\\\n",
      "   CO &               9408 &      249 \\\\\n",
      "   MN &               8437 &      196 \\\\\n",
      "   MI &               7953 &      237 \\\\\n",
      "   MO &               7657 &      230 \\\\\n",
      "   TN &               7165 &      221 \\\\\n",
      "   OR &               6704 &      206 \\\\\n",
      "   MD &               6610 &      207 \\\\\n",
      "   IN &               5727 &      222 \\\\\n",
      "   WI &               5006 &      181 \\\\\n",
      "   CT &               4567 &      186 \\\\\n",
      "   KY &               4224 &      190 \\\\\n",
      "   UT &               3925 &      187 \\\\\n",
      "   OK &               3772 &      174 \\\\\n",
      "   DC &               3596 &      180 \\\\\n",
      "   KS &               3459 &      169 \\\\\n",
      "   SC &               3362 &      194 \\\\\n",
      "   NV &               2815 &      163 \\\\\n",
      "   LA &               2631 &      175 \\\\\n",
      "   AL &               2546 &      171 \\\\\n",
      "   DE &               2067 &      113 \\\\\n",
      "   IA &               1849 &      133 \\\\\n",
      "   RI &               1676 &      103 \\\\\n",
      "   AR &               1666 &      149 \\\\\n",
      "   NH &               1627 &      127 \\\\\n",
      "   NE &               1564 &      139 \\\\\n",
      "   ID &               1208 &      112 \\\\\n",
      "   MS &               1138 &      127 \\\\\n",
      "   NM &               1097 &      125 \\\\\n",
      "   WV &                803 &      114 \\\\\n",
      "   ME &                604 &      105 \\\\\n",
      "   HI &                600 &       85 \\\\\n",
      "   ND &                344 &       74 \\\\\n",
      "   VT &                324 &       54 \\\\\n",
      "   MT &                322 &       70 \\\\\n",
      "   AK &                300 &       57 \\\\\n",
      "   SD &                297 &       57 \\\\\n",
      "   WY &                222 &       72 \\\\\n",
      "\\bottomrule\n",
      "\\end{tabular}\n",
      "\n"
     ]
    }
   ],
   "source": [
    "state_counts = our_df2.groupby(by=['state'])[['company_id', 'company_name']].nunique().reset_index().\\\n",
    "        sort_values(by=['company_id'], ascending=False).\\\n",
    "        rename(columns={'company_id':'number of reviews', 'company_name':'offices'})\n",
    "\n",
    "print(state_counts.to_latex(index=False))"
   ]
  },
  {
   "cell_type": "code",
   "execution_count": null,
   "metadata": {},
   "outputs": [],
   "source": []
  },
  {
   "cell_type": "code",
   "execution_count": 26,
   "metadata": {},
   "outputs": [
    {
     "data": {
      "text/html": [
       "<div>\n",
       "<style scoped>\n",
       "    .dataframe tbody tr th:only-of-type {\n",
       "        vertical-align: middle;\n",
       "    }\n",
       "\n",
       "    .dataframe tbody tr th {\n",
       "        vertical-align: top;\n",
       "    }\n",
       "\n",
       "    .dataframe thead th {\n",
       "        text-align: right;\n",
       "    }\n",
       "</style>\n",
       "<table border=\"1\" class=\"dataframe\">\n",
       "  <thead>\n",
       "    <tr style=\"text-align: right;\">\n",
       "      <th></th>\n",
       "      <th>number of reviews</th>\n",
       "      <th>offices</th>\n",
       "    </tr>\n",
       "  </thead>\n",
       "  <tbody>\n",
       "    <tr>\n",
       "      <th>number of reviews</th>\n",
       "      <td>1.000000</td>\n",
       "      <td>0.775609</td>\n",
       "    </tr>\n",
       "    <tr>\n",
       "      <th>offices</th>\n",
       "      <td>0.775609</td>\n",
       "      <td>1.000000</td>\n",
       "    </tr>\n",
       "  </tbody>\n",
       "</table>\n",
       "</div>"
      ],
      "text/plain": [
       "                   number of reviews   offices\n",
       "number of reviews           1.000000  0.775609\n",
       "offices                     0.775609  1.000000"
      ]
     },
     "execution_count": 26,
     "metadata": {},
     "output_type": "execute_result"
    }
   ],
   "source": [
    "state_counts.corr()"
   ]
  },
  {
   "cell_type": "code",
   "execution_count": 27,
   "metadata": {},
   "outputs": [],
   "source": [
    "state_counts['log reviews'] = state_counts['number of reviews'].apply(np.log)"
   ]
  },
  {
   "cell_type": "code",
   "execution_count": 28,
   "metadata": {},
   "outputs": [
    {
     "data": {
      "text/html": [
       "<div>\n",
       "<style scoped>\n",
       "    .dataframe tbody tr th:only-of-type {\n",
       "        vertical-align: middle;\n",
       "    }\n",
       "\n",
       "    .dataframe tbody tr th {\n",
       "        vertical-align: top;\n",
       "    }\n",
       "\n",
       "    .dataframe thead th {\n",
       "        text-align: right;\n",
       "    }\n",
       "</style>\n",
       "<table border=\"1\" class=\"dataframe\">\n",
       "  <thead>\n",
       "    <tr style=\"text-align: right;\">\n",
       "      <th></th>\n",
       "      <th>number of reviews</th>\n",
       "      <th>offices</th>\n",
       "      <th>log reviews</th>\n",
       "    </tr>\n",
       "  </thead>\n",
       "  <tbody>\n",
       "    <tr>\n",
       "      <th>number of reviews</th>\n",
       "      <td>1.000000</td>\n",
       "      <td>0.775609</td>\n",
       "      <td>0.753339</td>\n",
       "    </tr>\n",
       "    <tr>\n",
       "      <th>offices</th>\n",
       "      <td>0.775609</td>\n",
       "      <td>1.000000</td>\n",
       "      <td>0.979961</td>\n",
       "    </tr>\n",
       "    <tr>\n",
       "      <th>log reviews</th>\n",
       "      <td>0.753339</td>\n",
       "      <td>0.979961</td>\n",
       "      <td>1.000000</td>\n",
       "    </tr>\n",
       "  </tbody>\n",
       "</table>\n",
       "</div>"
      ],
      "text/plain": [
       "                   number of reviews   offices  log reviews\n",
       "number of reviews           1.000000  0.775609     0.753339\n",
       "offices                     0.775609  1.000000     0.979961\n",
       "log reviews                 0.753339  0.979961     1.000000"
      ]
     },
     "execution_count": 28,
     "metadata": {},
     "output_type": "execute_result"
    }
   ],
   "source": [
    "state_counts.corr()"
   ]
  },
  {
   "cell_type": "code",
   "execution_count": null,
   "metadata": {},
   "outputs": [],
   "source": []
  },
  {
   "cell_type": "code",
   "execution_count": 29,
   "metadata": {},
   "outputs": [
    {
     "data": {
      "text/plain": [
       "3.362166128875603"
      ]
     },
     "execution_count": 29,
     "metadata": {},
     "output_type": "execute_result"
    }
   ],
   "source": [
    "our_df2['rating_overall'].mean()"
   ]
  },
  {
   "cell_type": "code",
   "execution_count": 30,
   "metadata": {},
   "outputs": [
    {
     "data": {
      "text/plain": [
       "(3.3685409652880347, 0.4067365625466236)"
      ]
     },
     "execution_count": 30,
     "metadata": {},
     "output_type": "execute_result"
    }
   ],
   "source": [
    "ratings = our_df2.groupby(by=['company_name'])['rating_overall'].mean().reset_index().\\\n",
    "        sort_values(by=['rating_overall'], ascending=False)\n",
    "\n",
    "ratings['rating_overall'].mean(), ratings['rating_overall'].std()"
   ]
  },
  {
   "cell_type": "code",
   "execution_count": null,
   "metadata": {},
   "outputs": [],
   "source": []
  },
  {
   "cell_type": "code",
   "execution_count": null,
   "metadata": {},
   "outputs": [],
   "source": []
  },
  {
   "cell_type": "code",
   "execution_count": 31,
   "metadata": {},
   "outputs": [
    {
     "data": {
      "text/plain": [
       "0.01286381835252474"
      ]
     },
     "execution_count": 31,
     "metadata": {},
     "output_type": "execute_result"
    }
   ],
   "source": [
    "our_df2['stress_post'].mean()"
   ]
  },
  {
   "cell_type": "code",
   "execution_count": 32,
   "metadata": {},
   "outputs": [
    {
     "data": {
      "text/plain": [
       "(0.0, 0.1134020618556701)"
      ]
     },
     "execution_count": 32,
     "metadata": {},
     "output_type": "execute_result"
    }
   ],
   "source": [
    "stress_pct = our_df2.groupby(by=['company_name'])['stress_post'].mean().reset_index().\\\n",
    "        sort_values(by=['stress_post'], ascending=False)\n",
    "\n",
    "stress_pct['stress_post'].min(), stress_pct['stress_post'].max()"
   ]
  },
  {
   "cell_type": "code",
   "execution_count": 33,
   "metadata": {},
   "outputs": [
    {
     "data": {
      "text/plain": [
       "(0.01119030876545081, 0.012809984256834417)"
      ]
     },
     "execution_count": 33,
     "metadata": {},
     "output_type": "execute_result"
    }
   ],
   "source": [
    "stress_pct['stress_post'].mean(), stress_pct['stress_post'].std()"
   ]
  },
  {
   "cell_type": "code",
   "execution_count": null,
   "metadata": {},
   "outputs": [],
   "source": []
  },
  {
   "cell_type": "code",
   "execution_count": 16,
   "metadata": {},
   "outputs": [
    {
     "name": "stdout",
     "output_type": "stream",
     "text": [
      "\\begin{tabular}{lrr}\n",
      "\\toprule\n",
      "            GICSSector &  number of reviews &  companies \\\\\n",
      "\\midrule\n",
      "Information Technology &              63198 &         52 \\\\\n",
      "Consumer Discretionary &              62395 &         40 \\\\\n",
      "            Financials &              49955 &         42 \\\\\n",
      "           Health Care &              36308 &         41 \\\\\n",
      "      Consumer Staples &              26471 &         28 \\\\\n",
      "           Industrials &              24074 &         43 \\\\\n",
      "Communication Services &              13842 &         13 \\\\\n",
      "                Energy &               5510 &         20 \\\\\n",
      "             Materials &               5269 &         21 \\\\\n",
      "             Utilities &               3172 &         19 \\\\\n",
      "           Real Estate &               2228 &         16 \\\\\n",
      "\\bottomrule\n",
      "\\end{tabular}\n",
      "\n"
     ]
    }
   ],
   "source": [
    "industry_counts = our_df2.groupby(by=['GICSSector'])[['company_id', 'company_name']].nunique().reset_index().\\\n",
    "        sort_values(by=['company_id'], ascending=False).\\\n",
    "        rename(columns={'company_id':'number of reviews', 'company_name':'companies'})\n",
    "\n",
    "print(industry_counts.to_latex(index=False))"
   ]
  },
  {
   "cell_type": "code",
   "execution_count": null,
   "metadata": {},
   "outputs": [],
   "source": []
  },
  {
   "cell_type": "code",
   "execution_count": 17,
   "metadata": {},
   "outputs": [
    {
     "name": "stdout",
     "output_type": "stream",
     "text": [
      "\\begin{tabular}{lr}\n",
      "\\toprule\n",
      "                  employee\\_title &  company\\_id \\\\\n",
      "\\midrule\n",
      "                 Sales Associate &        8266 \\\\\n",
      "                         Manager &        4758 \\\\\n",
      "               Software Engineer &        4419 \\\\\n",
      " Customer Service Representative &        4238 \\\\\n",
      "                         Cashier &        3948 \\\\\n",
      "                        Director &        2978 \\\\\n",
      "                 Project Manager &        2445 \\\\\n",
      "                  Senior Manager &        2287 \\\\\n",
      "                   Store Manager &        2098 \\\\\n",
      "        Senior Software Engineer &        2090 \\\\\n",
      "                       Associate &        2051 \\\\\n",
      "               Assistant Manager &        2036 \\\\\n",
      "             Pharmacy Technician &        1832 \\\\\n",
      "                         Analyst &        1704 \\\\\n",
      "                 Delivery Driver &        1681 \\\\\n",
      "\\bottomrule\n",
      "\\end{tabular}\n",
      "\n"
     ]
    }
   ],
   "source": [
    "employee_st_counts = our_df2.groupby(by=['employee_title'])[['company_id']].count().reset_index().\\\n",
    "        sort_values(by=['company_id'], ascending=False)\n",
    "\n",
    "print(employee_st_counts.head(15).to_latex(index=False))"
   ]
  },
  {
   "cell_type": "code",
   "execution_count": 18,
   "metadata": {},
   "outputs": [
    {
     "name": "stdout",
     "output_type": "stream",
     "text": [
      "\\begin{tabular}{lr}\n",
      "\\toprule\n",
      "   employee\\_status &  company\\_id \\\\\n",
      "\\midrule\n",
      " Current Employee  &      190876 \\\\\n",
      "  Former Employee  &      146449 \\\\\n",
      "    Former Intern  &        5207 \\\\\n",
      "Former Contractor  &        3380 \\\\\n",
      "   Current Intern  &        2858 \\\\\n",
      "\\bottomrule\n",
      "\\end{tabular}\n",
      "\n"
     ]
    }
   ],
   "source": [
    "employee_st_counts = our_df2.groupby(by=['employee_status'])[['company_id']].count().reset_index().\\\n",
    "        sort_values(by=['company_id'], ascending=False)\n",
    "\n",
    "print(employee_st_counts.head().to_latex(index=False))"
   ]
  },
  {
   "cell_type": "code",
   "execution_count": null,
   "metadata": {},
   "outputs": [],
   "source": []
  },
  {
   "cell_type": "code",
   "execution_count": 39,
   "metadata": {},
   "outputs": [
    {
     "name": "stderr",
     "output_type": "stream",
     "text": [
      "/opt/anaconda3/envs/ana/lib/python3.8/site-packages/IPython/core/interactiveshell.py:3146: DtypeWarning: Columns (0,51) have mixed types.Specify dtype option on import or set low_memory=False.\n",
      "  has_raised = await self.run_ast_nodes(code_ast.body, cell_name,\n"
     ]
    }
   ],
   "source": [
    "df = pd.read_csv(\"../data/ALL_companies_reviews.csv\")"
   ]
  },
  {
   "cell_type": "code",
   "execution_count": 40,
   "metadata": {},
   "outputs": [
    {
     "data": {
      "text/plain": [
       "713018"
      ]
     },
     "execution_count": 40,
     "metadata": {},
     "output_type": "execute_result"
    }
   ],
   "source": [
    "len(df)"
   ]
  },
  {
   "cell_type": "code",
   "execution_count": null,
   "metadata": {},
   "outputs": [],
   "source": []
  }
 ],
 "metadata": {
  "kernelspec": {
   "display_name": "Python 3",
   "language": "python",
   "name": "python3"
  },
  "language_info": {
   "codemirror_mode": {
    "name": "ipython",
    "version": 3
   },
   "file_extension": ".py",
   "mimetype": "text/x-python",
   "name": "python",
   "nbconvert_exporter": "python",
   "pygments_lexer": "ipython3",
   "version": "3.8.5"
  }
 },
 "nbformat": 4,
 "nbformat_minor": 2
}
