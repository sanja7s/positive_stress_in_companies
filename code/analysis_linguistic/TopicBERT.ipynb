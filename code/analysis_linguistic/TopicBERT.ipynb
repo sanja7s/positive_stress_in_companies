{
 "cells": [
  {
   "cell_type": "code",
   "execution_count": 1,
   "metadata": {},
   "outputs": [],
   "source": [
    "import numpy as np\n",
    "import pandas as pd\n",
    "import matplotlib.pyplot as plt\n",
    "from bertopic import BERTopic"
   ]
  },
  {
   "cell_type": "code",
   "execution_count": 2,
   "metadata": {},
   "outputs": [],
   "source": [
    "### This code follows the Medium Post below\n",
    "### https://towardsdatascience.com/interactive-topic-modeling-with-bertopic-1ea55e7d73d8"
   ]
  },
  {
   "cell_type": "markdown",
   "metadata": {},
   "source": [
    "# Apply the model to our data"
   ]
  },
  {
   "cell_type": "code",
   "execution_count": 3,
   "metadata": {},
   "outputs": [
    {
     "data": {
      "text/html": [
       "<div>\n",
       "<style scoped>\n",
       "    .dataframe tbody tr th:only-of-type {\n",
       "        vertical-align: middle;\n",
       "    }\n",
       "\n",
       "    .dataframe tbody tr th {\n",
       "        vertical-align: top;\n",
       "    }\n",
       "\n",
       "    .dataframe thead th {\n",
       "        text-align: right;\n",
       "    }\n",
       "</style>\n",
       "<table border=\"1\" class=\"dataframe\">\n",
       "  <thead>\n",
       "    <tr style=\"text-align: right;\">\n",
       "      <th></th>\n",
       "      <th>advice_to_mgmt</th>\n",
       "      <th>company_id</th>\n",
       "      <th>cons</th>\n",
       "      <th>cons_vader</th>\n",
       "      <th>date</th>\n",
       "      <th>employee_status</th>\n",
       "      <th>employee_title</th>\n",
       "      <th>helpful</th>\n",
       "      <th>location</th>\n",
       "      <th>post_index</th>\n",
       "      <th>...</th>\n",
       "      <th>GICSSubIndustry</th>\n",
       "      <th>Headquarters Location</th>\n",
       "      <th>Date first added</th>\n",
       "      <th>CIK</th>\n",
       "      <th>Founded</th>\n",
       "      <th>Region</th>\n",
       "      <th>Division</th>\n",
       "      <th>quarter</th>\n",
       "      <th>half-year</th>\n",
       "      <th>year</th>\n",
       "    </tr>\n",
       "  </thead>\n",
       "  <tbody>\n",
       "    <tr>\n",
       "      <th>0</th>\n",
       "      <td>NaN</td>\n",
       "      <td>1_comerica</td>\n",
       "      <td>Low comp Compared to other companies</td>\n",
       "      <td>NaN</td>\n",
       "      <td>Wed May 06 2020 07:27:34 GMT+0100 (British Sum...</td>\n",
       "      <td>Current Employee</td>\n",
       "      <td>Analyst</td>\n",
       "      <td>NaN</td>\n",
       "      <td>Dallas, TX</td>\n",
       "      <td>1.0</td>\n",
       "      <td>...</td>\n",
       "      <td>Diversified Banks</td>\n",
       "      <td>Dallas, Texas</td>\n",
       "      <td>01/12/1995</td>\n",
       "      <td>28412.0</td>\n",
       "      <td>NaN</td>\n",
       "      <td>South</td>\n",
       "      <td>West South Central</td>\n",
       "      <td>2020 Q2</td>\n",
       "      <td>2020 1st-half</td>\n",
       "      <td>2020</td>\n",
       "    </tr>\n",
       "    <tr>\n",
       "      <th>1</th>\n",
       "      <td>NaN</td>\n",
       "      <td>4_comerica</td>\n",
       "      <td>Management was all from outside so they did no...</td>\n",
       "      <td>NaN</td>\n",
       "      <td>Tue Mar 10 2020 09:03:58 GMT+0000 (Greenwich M...</td>\n",
       "      <td>Former Employee</td>\n",
       "      <td>Customer Service Representative</td>\n",
       "      <td>NaN</td>\n",
       "      <td>Dallas, TX</td>\n",
       "      <td>4.0</td>\n",
       "      <td>...</td>\n",
       "      <td>Diversified Banks</td>\n",
       "      <td>Dallas, Texas</td>\n",
       "      <td>01/12/1995</td>\n",
       "      <td>28412.0</td>\n",
       "      <td>NaN</td>\n",
       "      <td>South</td>\n",
       "      <td>West South Central</td>\n",
       "      <td>2020 Q1</td>\n",
       "      <td>2020 1st-half</td>\n",
       "      <td>2020</td>\n",
       "    </tr>\n",
       "    <tr>\n",
       "      <th>2</th>\n",
       "      <td>NaN</td>\n",
       "      <td>7_comerica</td>\n",
       "      <td>Hard to move up Mangers are lazy</td>\n",
       "      <td>NaN</td>\n",
       "      <td>Wed Mar 11 2020 22:53:11 GMT+0000 (Greenwich M...</td>\n",
       "      <td>Former Employee</td>\n",
       "      <td>Bank Teller</td>\n",
       "      <td>NaN</td>\n",
       "      <td>Dallas, TX</td>\n",
       "      <td>7.0</td>\n",
       "      <td>...</td>\n",
       "      <td>Diversified Banks</td>\n",
       "      <td>Dallas, Texas</td>\n",
       "      <td>01/12/1995</td>\n",
       "      <td>28412.0</td>\n",
       "      <td>NaN</td>\n",
       "      <td>South</td>\n",
       "      <td>West South Central</td>\n",
       "      <td>2020 Q1</td>\n",
       "      <td>2020 1st-half</td>\n",
       "      <td>2020</td>\n",
       "    </tr>\n",
       "    <tr>\n",
       "      <th>3</th>\n",
       "      <td>NaN</td>\n",
       "      <td>14_comerica</td>\n",
       "      <td>Upward mobility for an underwriter can be chal...</td>\n",
       "      <td>NaN</td>\n",
       "      <td>Tue Jan 28 2020 12:53:30 GMT+0000 (Greenwich M...</td>\n",
       "      <td>Former Employee</td>\n",
       "      <td>Senior Underwriter</td>\n",
       "      <td>NaN</td>\n",
       "      <td>Houston, TX</td>\n",
       "      <td>14.0</td>\n",
       "      <td>...</td>\n",
       "      <td>Diversified Banks</td>\n",
       "      <td>Dallas, Texas</td>\n",
       "      <td>01/12/1995</td>\n",
       "      <td>28412.0</td>\n",
       "      <td>NaN</td>\n",
       "      <td>South</td>\n",
       "      <td>West South Central</td>\n",
       "      <td>2020 Q1</td>\n",
       "      <td>2020 1st-half</td>\n",
       "      <td>2020</td>\n",
       "    </tr>\n",
       "    <tr>\n",
       "      <th>4</th>\n",
       "      <td>NaN</td>\n",
       "      <td>20_comerica</td>\n",
       "      <td>Minimal traffic, small books, over priced/non ...</td>\n",
       "      <td>NaN</td>\n",
       "      <td>Sun Jan 12 2020 00:05:37 GMT+0000 (Greenwich M...</td>\n",
       "      <td>Former Employee</td>\n",
       "      <td>Commissioning Engineer</td>\n",
       "      <td>NaN</td>\n",
       "      <td>Houston, TX</td>\n",
       "      <td>20.0</td>\n",
       "      <td>...</td>\n",
       "      <td>Diversified Banks</td>\n",
       "      <td>Dallas, Texas</td>\n",
       "      <td>01/12/1995</td>\n",
       "      <td>28412.0</td>\n",
       "      <td>NaN</td>\n",
       "      <td>South</td>\n",
       "      <td>West South Central</td>\n",
       "      <td>2020 Q1</td>\n",
       "      <td>2020 1st-half</td>\n",
       "      <td>2020</td>\n",
       "    </tr>\n",
       "  </tbody>\n",
       "</table>\n",
       "<p>5 rows × 46 columns</p>\n",
       "</div>"
      ],
      "text/plain": [
       "   advice_to_mgmt   company_id  \\\n",
       "0             NaN   1_comerica   \n",
       "1             NaN   4_comerica   \n",
       "2             NaN   7_comerica   \n",
       "3             NaN  14_comerica   \n",
       "4             NaN  20_comerica   \n",
       "\n",
       "                                                cons  cons_vader  \\\n",
       "0               Low comp Compared to other companies         NaN   \n",
       "1  Management was all from outside so they did no...         NaN   \n",
       "2                   Hard to move up Mangers are lazy         NaN   \n",
       "3  Upward mobility for an underwriter can be chal...         NaN   \n",
       "4  Minimal traffic, small books, over priced/non ...         NaN   \n",
       "\n",
       "                                                date    employee_status  \\\n",
       "0  Wed May 06 2020 07:27:34 GMT+0100 (British Sum...  Current Employee    \n",
       "1  Tue Mar 10 2020 09:03:58 GMT+0000 (Greenwich M...   Former Employee    \n",
       "2  Wed Mar 11 2020 22:53:11 GMT+0000 (Greenwich M...   Former Employee    \n",
       "3  Tue Jan 28 2020 12:53:30 GMT+0000 (Greenwich M...   Former Employee    \n",
       "4  Sun Jan 12 2020 00:05:37 GMT+0000 (Greenwich M...   Former Employee    \n",
       "\n",
       "                     employee_title  helpful     location  post_index  ...  \\\n",
       "0                           Analyst      NaN   Dallas, TX         1.0  ...   \n",
       "1   Customer Service Representative      NaN   Dallas, TX         4.0  ...   \n",
       "2                       Bank Teller      NaN   Dallas, TX         7.0  ...   \n",
       "3                Senior Underwriter      NaN  Houston, TX        14.0  ...   \n",
       "4            Commissioning Engineer      NaN  Houston, TX        20.0  ...   \n",
       "\n",
       "     GICSSubIndustry  Headquarters Location  Date first added      CIK  \\\n",
       "0  Diversified Banks          Dallas, Texas        01/12/1995  28412.0   \n",
       "1  Diversified Banks          Dallas, Texas        01/12/1995  28412.0   \n",
       "2  Diversified Banks          Dallas, Texas        01/12/1995  28412.0   \n",
       "3  Diversified Banks          Dallas, Texas        01/12/1995  28412.0   \n",
       "4  Diversified Banks          Dallas, Texas        01/12/1995  28412.0   \n",
       "\n",
       "   Founded  Region            Division  quarter      half-year  year  \n",
       "0      NaN   South  West South Central  2020 Q2  2020 1st-half  2020  \n",
       "1      NaN   South  West South Central  2020 Q1  2020 1st-half  2020  \n",
       "2      NaN   South  West South Central  2020 Q1  2020 1st-half  2020  \n",
       "3      NaN   South  West South Central  2020 Q1  2020 1st-half  2020  \n",
       "4      NaN   South  West South Central  2020 Q1  2020 1st-half  2020  \n",
       "\n",
       "[5 rows x 46 columns]"
      ]
     },
     "execution_count": 3,
     "metadata": {},
     "output_type": "execute_result"
    }
   ],
   "source": [
    "data = pd.read_csv(\"../../preprocessed/reviews_master.csv\")\n",
    "data.head()"
   ]
  },
  {
   "cell_type": "code",
   "execution_count": 4,
   "metadata": {},
   "outputs": [],
   "source": [
    "company_quadrants = pd.read_csv(\"../../preprocessed/company_master.csv\")\n",
    "company_quadrants.rename(columns={'company':'company_name'}, inplace=True)"
   ]
  },
  {
   "cell_type": "markdown",
   "metadata": {},
   "source": [
    "## Merged files with posts and company quadrants (stress types)"
   ]
  },
  {
   "cell_type": "code",
   "execution_count": 5,
   "metadata": {},
   "outputs": [
    {
     "data": {
      "text/html": [
       "<div>\n",
       "<style scoped>\n",
       "    .dataframe tbody tr th:only-of-type {\n",
       "        vertical-align: middle;\n",
       "    }\n",
       "\n",
       "    .dataframe tbody tr th {\n",
       "        vertical-align: top;\n",
       "    }\n",
       "\n",
       "    .dataframe thead th {\n",
       "        text-align: right;\n",
       "    }\n",
       "</style>\n",
       "<table border=\"1\" class=\"dataframe\">\n",
       "  <thead>\n",
       "    <tr style=\"text-align: right;\">\n",
       "      <th></th>\n",
       "      <th>company_id</th>\n",
       "      <th>company_name</th>\n",
       "      <th>pros</th>\n",
       "      <th>cons</th>\n",
       "      <th>Unnamed: 0</th>\n",
       "      <th>total_posts</th>\n",
       "      <th>sym_posts</th>\n",
       "      <th>pct_stress</th>\n",
       "      <th>rating_balance</th>\n",
       "      <th>rating_career</th>\n",
       "      <th>...</th>\n",
       "      <th>log_stock_growth_2014</th>\n",
       "      <th>stock_growth_2012</th>\n",
       "      <th>log_stock_growth_2012</th>\n",
       "      <th>stock_growth_2009</th>\n",
       "      <th>log_stock_growth_2009</th>\n",
       "      <th>log_stock_2009</th>\n",
       "      <th>log_stock_2012</th>\n",
       "      <th>log_stock_2014</th>\n",
       "      <th>log_stock_2019</th>\n",
       "      <th>GICSSector</th>\n",
       "    </tr>\n",
       "  </thead>\n",
       "  <tbody>\n",
       "    <tr>\n",
       "      <th>0</th>\n",
       "      <td>1_comerica</td>\n",
       "      <td>comerica</td>\n",
       "      <td>Good environment for out of college</td>\n",
       "      <td>Low comp Compared to other companies</td>\n",
       "      <td>174</td>\n",
       "      <td>784</td>\n",
       "      <td>2</td>\n",
       "      <td>0.997449</td>\n",
       "      <td>3.530347</td>\n",
       "      <td>3.017442</td>\n",
       "      <td>...</td>\n",
       "      <td>0.495377</td>\n",
       "      <td>2.717288</td>\n",
       "      <td>0.999634</td>\n",
       "      <td>3.675309</td>\n",
       "      <td>1.301637</td>\n",
       "      <td>2.888786</td>\n",
       "      <td>3.190789</td>\n",
       "      <td>3.695046</td>\n",
       "      <td>4.190423</td>\n",
       "      <td>Financials</td>\n",
       "    </tr>\n",
       "    <tr>\n",
       "      <th>1</th>\n",
       "      <td>4_comerica</td>\n",
       "      <td>comerica</td>\n",
       "      <td>Decent pay, comfortable work environment</td>\n",
       "      <td>Management was all from outside so they did no...</td>\n",
       "      <td>174</td>\n",
       "      <td>784</td>\n",
       "      <td>2</td>\n",
       "      <td>0.997449</td>\n",
       "      <td>3.530347</td>\n",
       "      <td>3.017442</td>\n",
       "      <td>...</td>\n",
       "      <td>0.495377</td>\n",
       "      <td>2.717288</td>\n",
       "      <td>0.999634</td>\n",
       "      <td>3.675309</td>\n",
       "      <td>1.301637</td>\n",
       "      <td>2.888786</td>\n",
       "      <td>3.190789</td>\n",
       "      <td>3.695046</td>\n",
       "      <td>4.190423</td>\n",
       "      <td>Financials</td>\n",
       "    </tr>\n",
       "    <tr>\n",
       "      <th>2</th>\n",
       "      <td>7_comerica</td>\n",
       "      <td>comerica</td>\n",
       "      <td>Good pay An hour lunch</td>\n",
       "      <td>Hard to move up Mangers are lazy</td>\n",
       "      <td>174</td>\n",
       "      <td>784</td>\n",
       "      <td>2</td>\n",
       "      <td>0.997449</td>\n",
       "      <td>3.530347</td>\n",
       "      <td>3.017442</td>\n",
       "      <td>...</td>\n",
       "      <td>0.495377</td>\n",
       "      <td>2.717288</td>\n",
       "      <td>0.999634</td>\n",
       "      <td>3.675309</td>\n",
       "      <td>1.301637</td>\n",
       "      <td>2.888786</td>\n",
       "      <td>3.190789</td>\n",
       "      <td>3.695046</td>\n",
       "      <td>4.190423</td>\n",
       "      <td>Financials</td>\n",
       "    </tr>\n",
       "    <tr>\n",
       "      <th>3</th>\n",
       "      <td>14_comerica</td>\n",
       "      <td>comerica</td>\n",
       "      <td>Relationship managers and credit officers took...</td>\n",
       "      <td>Upward mobility for an underwriter can be chal...</td>\n",
       "      <td>174</td>\n",
       "      <td>784</td>\n",
       "      <td>2</td>\n",
       "      <td>0.997449</td>\n",
       "      <td>3.530347</td>\n",
       "      <td>3.017442</td>\n",
       "      <td>...</td>\n",
       "      <td>0.495377</td>\n",
       "      <td>2.717288</td>\n",
       "      <td>0.999634</td>\n",
       "      <td>3.675309</td>\n",
       "      <td>1.301637</td>\n",
       "      <td>2.888786</td>\n",
       "      <td>3.190789</td>\n",
       "      <td>3.695046</td>\n",
       "      <td>4.190423</td>\n",
       "      <td>Financials</td>\n",
       "    </tr>\n",
       "    <tr>\n",
       "      <th>4</th>\n",
       "      <td>20_comerica</td>\n",
       "      <td>comerica</td>\n",
       "      <td>slower pace, small goals, vacation time</td>\n",
       "      <td>Minimal traffic, small books, over priced/non ...</td>\n",
       "      <td>174</td>\n",
       "      <td>784</td>\n",
       "      <td>2</td>\n",
       "      <td>0.997449</td>\n",
       "      <td>3.530347</td>\n",
       "      <td>3.017442</td>\n",
       "      <td>...</td>\n",
       "      <td>0.495377</td>\n",
       "      <td>2.717288</td>\n",
       "      <td>0.999634</td>\n",
       "      <td>3.675309</td>\n",
       "      <td>1.301637</td>\n",
       "      <td>2.888786</td>\n",
       "      <td>3.190789</td>\n",
       "      <td>3.695046</td>\n",
       "      <td>4.190423</td>\n",
       "      <td>Financials</td>\n",
       "    </tr>\n",
       "  </tbody>\n",
       "</table>\n",
       "<p>5 rows × 33 columns</p>\n",
       "</div>"
      ],
      "text/plain": [
       "    company_id company_name  \\\n",
       "0   1_comerica     comerica   \n",
       "1   4_comerica     comerica   \n",
       "2   7_comerica     comerica   \n",
       "3  14_comerica     comerica   \n",
       "4  20_comerica     comerica   \n",
       "\n",
       "                                                pros  \\\n",
       "0                Good environment for out of college   \n",
       "1           Decent pay, comfortable work environment   \n",
       "2                             Good pay An hour lunch   \n",
       "3  Relationship managers and credit officers took...   \n",
       "4            slower pace, small goals, vacation time   \n",
       "\n",
       "                                                cons  Unnamed: 0  total_posts  \\\n",
       "0               Low comp Compared to other companies         174          784   \n",
       "1  Management was all from outside so they did no...         174          784   \n",
       "2                   Hard to move up Mangers are lazy         174          784   \n",
       "3  Upward mobility for an underwriter can be chal...         174          784   \n",
       "4  Minimal traffic, small books, over priced/non ...         174          784   \n",
       "\n",
       "   sym_posts  pct_stress  rating_balance  rating_career  ...  \\\n",
       "0          2    0.997449        3.530347       3.017442  ...   \n",
       "1          2    0.997449        3.530347       3.017442  ...   \n",
       "2          2    0.997449        3.530347       3.017442  ...   \n",
       "3          2    0.997449        3.530347       3.017442  ...   \n",
       "4          2    0.997449        3.530347       3.017442  ...   \n",
       "\n",
       "   log_stock_growth_2014  stock_growth_2012  log_stock_growth_2012  \\\n",
       "0               0.495377           2.717288               0.999634   \n",
       "1               0.495377           2.717288               0.999634   \n",
       "2               0.495377           2.717288               0.999634   \n",
       "3               0.495377           2.717288               0.999634   \n",
       "4               0.495377           2.717288               0.999634   \n",
       "\n",
       "   stock_growth_2009  log_stock_growth_2009  log_stock_2009 log_stock_2012  \\\n",
       "0           3.675309               1.301637        2.888786       3.190789   \n",
       "1           3.675309               1.301637        2.888786       3.190789   \n",
       "2           3.675309               1.301637        2.888786       3.190789   \n",
       "3           3.675309               1.301637        2.888786       3.190789   \n",
       "4           3.675309               1.301637        2.888786       3.190789   \n",
       "\n",
       "   log_stock_2014  log_stock_2019  GICSSector  \n",
       "0        3.695046        4.190423  Financials  \n",
       "1        3.695046        4.190423  Financials  \n",
       "2        3.695046        4.190423  Financials  \n",
       "3        3.695046        4.190423  Financials  \n",
       "4        3.695046        4.190423  Financials  \n",
       "\n",
       "[5 rows x 33 columns]"
      ]
     },
     "execution_count": 5,
     "metadata": {},
     "output_type": "execute_result"
    }
   ],
   "source": [
    "## this dataframe, df, has all info we need to apply topic modelling on our data\n",
    "## company_namee, pros/cons (these are review texts), Q (company stress type), and f(Q) (company stress type association)\n",
    "\n",
    "df = data[['company_id', 'company_name','pros', 'cons']].merge(company_quadrants, on=['company_name'])\n",
    "df.head()"
   ]
  },
  {
   "cell_type": "markdown",
   "metadata": {},
   "source": [
    "# TopicBERT of our four stress types"
   ]
  },
  {
   "cell_type": "code",
   "execution_count": 6,
   "metadata": {},
   "outputs": [],
   "source": [
    "## Next, we apply TopcBERT to each stress type indivudally. We start with modelling text in 'pros'.\n",
    "## TopicBERT will discover importat topics discussed in pros of each individual stress type."
   ]
  },
  {
   "cell_type": "markdown",
   "metadata": {},
   "source": [
    "# Positive Stress"
   ]
  },
  {
   "cell_type": "code",
   "execution_count": 27,
   "metadata": {},
   "outputs": [
    {
     "name": "stdout",
     "output_type": "stream",
     "text": [
      "Q4 69044\n"
     ]
    }
   ],
   "source": [
    "### this cell takes some time to run\n",
    "Q = 'Q4'\n",
    "# subset the data\n",
    "df_q = df[df['Q'] == Q]\n",
    "# create a list of documents, i.e., pros\n",
    "docs_q = list(df_q['pros'])\n",
    "print (Q, len(docs_q))\n",
    "\n",
    "# if you want to sample, for testing the code uncomment the second part\n",
    "docs_q_sample = docs_q#[:1000]\n",
    "\n",
    "# run model\n",
    "model_q = BERTopic()\n",
    "topics, probabilities = model_q.fit_transform(docs_q_sample)"
   ]
  },
  {
   "cell_type": "markdown",
   "metadata": {},
   "source": [
    "### Show the list of discovered topics and their important words\n",
    "\n",
    "-1 means that these documents (pros) were not put into any topic."
   ]
  },
  {
   "cell_type": "code",
   "execution_count": 28,
   "metadata": {},
   "outputs": [
    {
     "data": {
      "text/html": [
       "<div>\n",
       "<style scoped>\n",
       "    .dataframe tbody tr th:only-of-type {\n",
       "        vertical-align: middle;\n",
       "    }\n",
       "\n",
       "    .dataframe tbody tr th {\n",
       "        vertical-align: top;\n",
       "    }\n",
       "\n",
       "    .dataframe thead th {\n",
       "        text-align: right;\n",
       "    }\n",
       "</style>\n",
       "<table border=\"1\" class=\"dataframe\">\n",
       "  <thead>\n",
       "    <tr style=\"text-align: right;\">\n",
       "      <th></th>\n",
       "      <th>Topic</th>\n",
       "      <th>Count</th>\n",
       "    </tr>\n",
       "  </thead>\n",
       "  <tbody>\n",
       "    <tr>\n",
       "      <th>0</th>\n",
       "      <td>-1</td>\n",
       "      <td>26841</td>\n",
       "    </tr>\n",
       "    <tr>\n",
       "      <th>1</th>\n",
       "      <td>0</td>\n",
       "      <td>2439</td>\n",
       "    </tr>\n",
       "    <tr>\n",
       "      <th>2</th>\n",
       "      <td>1</td>\n",
       "      <td>1440</td>\n",
       "    </tr>\n",
       "    <tr>\n",
       "      <th>3</th>\n",
       "      <td>2</td>\n",
       "      <td>845</td>\n",
       "    </tr>\n",
       "    <tr>\n",
       "      <th>4</th>\n",
       "      <td>3</td>\n",
       "      <td>816</td>\n",
       "    </tr>\n",
       "    <tr>\n",
       "      <th>5</th>\n",
       "      <td>4</td>\n",
       "      <td>733</td>\n",
       "    </tr>\n",
       "    <tr>\n",
       "      <th>6</th>\n",
       "      <td>5</td>\n",
       "      <td>664</td>\n",
       "    </tr>\n",
       "    <tr>\n",
       "      <th>7</th>\n",
       "      <td>6</td>\n",
       "      <td>645</td>\n",
       "    </tr>\n",
       "    <tr>\n",
       "      <th>8</th>\n",
       "      <td>7</td>\n",
       "      <td>618</td>\n",
       "    </tr>\n",
       "    <tr>\n",
       "      <th>9</th>\n",
       "      <td>8</td>\n",
       "      <td>610</td>\n",
       "    </tr>\n",
       "  </tbody>\n",
       "</table>\n",
       "</div>"
      ],
      "text/plain": [
       "   Topic  Count\n",
       "0     -1  26841\n",
       "1      0   2439\n",
       "2      1   1440\n",
       "3      2    845\n",
       "4      3    816\n",
       "5      4    733\n",
       "6      5    664\n",
       "7      6    645\n",
       "8      7    618\n",
       "9      8    610"
      ]
     },
     "execution_count": 28,
     "metadata": {},
     "output_type": "execute_result"
    }
   ],
   "source": [
    "model_q.get_topic_freq().head(10)"
   ]
  },
  {
   "cell_type": "code",
   "execution_count": 29,
   "metadata": {},
   "outputs": [
    {
     "data": {
      "text/plain": [
       "[('teamwork', 0.0072625915218091155),\n",
       " ('teams', 0.0071313421100305495),\n",
       " ('teammates', 0.006169541707544271),\n",
       " ('members', 0.0057561792434591775),\n",
       " ('collaboration', 0.0021176416548161284),\n",
       " ('supportive', 0.0019817488558819285),\n",
       " ('collaborative', 0.0019120267139237379),\n",
       " ('member', 0.001571695375892656),\n",
       " ('players', 0.0015452427007531773),\n",
       " ('welcoming', 0.0012097140603027983)]"
      ]
     },
     "execution_count": 29,
     "metadata": {},
     "output_type": "execute_result"
    }
   ],
   "source": [
    "## let's see the first (biggest) discovered topic \n",
    "model_q.get_topic(0)"
   ]
  },
  {
   "cell_type": "code",
   "execution_count": 30,
   "metadata": {},
   "outputs": [
    {
     "data": {
      "text/plain": [
       "[('apple', 0.0056725507653316316),\n",
       " ('retail', 0.003615618661363435),\n",
       " ('apples', 0.0030361267464114835),\n",
       " ('store', 0.002354733133616462),\n",
       " ('mac', 0.0023257698563202704),\n",
       " ('iphone', 0.0021162160376045113),\n",
       " ('stores', 0.0012729750706440147),\n",
       " ('customers', 0.0011345964471586518),\n",
       " ('applecare', 0.0011237803919366281),\n",
       " ('ipod', 0.0010994319643950706)]"
      ]
     },
     "execution_count": 30,
     "metadata": {},
     "output_type": "execute_result"
    }
   ],
   "source": [
    "model_q.get_topic(1)"
   ]
  },
  {
   "cell_type": "code",
   "execution_count": 31,
   "metadata": {},
   "outputs": [
    {
     "data": {
      "text/plain": [
       "[('401k', 0.01683305954557642),\n",
       " ('401', 0.008861219763416426),\n",
       " ('pension', 0.006911876751915824),\n",
       " ('insurance', 0.006524041131135792),\n",
       " ('options', 0.003464455799482488),\n",
       " ('profit', 0.003098008903567414),\n",
       " ('plans', 0.003039483358228379),\n",
       " ('espp', 0.002954333076476845),\n",
       " ('bonus', 0.0025666204303845938),\n",
       " ('vacation', 0.002541654078320451)]"
      ]
     },
     "execution_count": 31,
     "metadata": {},
     "output_type": "execute_result"
    }
   ],
   "source": [
    "model_q.get_topic(2)"
   ]
  },
  {
   "cell_type": "code",
   "execution_count": 32,
   "metadata": {},
   "outputs": [
    {
     "data": {
      "text/plain": [
       "[('intel', 0.020663526534008013),\n",
       " ('intels', 0.0039015573529448235),\n",
       " ('semiconductor', 0.0028766038102822334),\n",
       " ('manufacturing', 0.0022959082118469013),\n",
       " ('interns', 0.0018346560389222175),\n",
       " ('hardware', 0.0015464172497684553),\n",
       " ('intern', 0.0015187211425863292),\n",
       " ('processors', 0.0013614907735073423),\n",
       " ('silicon', 0.0012580505745234433),\n",
       " ('processor', 0.0012412196331266518)]"
      ]
     },
     "execution_count": 32,
     "metadata": {},
     "output_type": "execute_result"
    }
   ],
   "source": [
    "model_q.get_topic(3)"
   ]
  },
  {
   "cell_type": "code",
   "execution_count": 33,
   "metadata": {},
   "outputs": [
    {
     "data": {
      "text/plain": [
       "[('nordstrom', 0.023666007364438357),\n",
       " ('nordstroms', 0.004126336585279682),\n",
       " ('store', 0.00341247494180213),\n",
       " ('stores', 0.0031326675952782082),\n",
       " ('sales', 0.002823678138436289),\n",
       " ('shoes', 0.002181170738436007),\n",
       " ('retail', 0.002021351002024978),\n",
       " ('selling', 0.0019424525446236462),\n",
       " ('customers', 0.001772072657521727),\n",
       " ('sale', 0.001563158248286795)]"
      ]
     },
     "execution_count": 33,
     "metadata": {},
     "output_type": "execute_result"
    }
   ],
   "source": [
    "model_q.get_topic(4)"
   ]
  },
  {
   "cell_type": "code",
   "execution_count": 34,
   "metadata": {},
   "outputs": [
    {
     "data": {
      "text/plain": [
       "[('pwc', 0.023539146136245668),\n",
       " ('clients', 0.0029531071795814152),\n",
       " ('client', 0.002643343996051028),\n",
       " ('audit', 0.0025397634772762793),\n",
       " ('pwcs', 0.0023005106455633068),\n",
       " ('consulting', 0.0021601593710670595),\n",
       " ('cpa', 0.0015931312594365686),\n",
       " ('staff', 0.0015755440011119262),\n",
       " ('associate', 0.0015403290480393973),\n",
       " ('professionals', 0.0014500561255101972)]"
      ]
     },
     "execution_count": 34,
     "metadata": {},
     "output_type": "execute_result"
    }
   ],
   "source": [
    "model_q.get_topic(5)"
   ]
  },
  {
   "cell_type": "code",
   "execution_count": 35,
   "metadata": {},
   "outputs": [
    {
     "data": {
      "text/plain": [
       "[('leadership', 0.009226767080835788),\n",
       " ('leaders', 0.0043127139753129946),\n",
       " ('leader', 0.0031423532725058712),\n",
       " ('skills', 0.0028493434482571834),\n",
       " ('excellence', 0.002376207600289503),\n",
       " ('integrity', 0.002302018933827041),\n",
       " ('executive', 0.002074879687593957),\n",
       " ('transparency', 0.0019696401202985393),\n",
       " ('discipline', 0.0019096203934650011),\n",
       " ('commitment', 0.0018849064475532319)]"
      ]
     },
     "execution_count": 35,
     "metadata": {},
     "output_type": "execute_result"
    }
   ],
   "source": [
    "model_q.get_topic(6)"
   ]
  },
  {
   "cell_type": "code",
   "execution_count": 36,
   "metadata": {},
   "outputs": [
    {
     "data": {
      "text/plain": [
       "[('google', 0.020645879850229438),\n",
       " ('googlers', 0.003210311847927553),\n",
       " ('googles', 0.0026000905595508993),\n",
       " ('engineers', 0.001725962342393652),\n",
       " ('engineer', 0.0016798528655176848),\n",
       " ('billions', 0.0015384884572028552),\n",
       " ('infrastructure', 0.0013255647420131053),\n",
       " ('contractor', 0.0012838339739676234),\n",
       " ('software', 0.001283184950610112),\n",
       " ('millions', 0.0012678756963633005)]"
      ]
     },
     "execution_count": 36,
     "metadata": {},
     "output_type": "execute_result"
    }
   ],
   "source": [
    "model_q.get_topic(7)"
   ]
  },
  {
   "cell_type": "code",
   "execution_count": 37,
   "metadata": {},
   "outputs": [
    {
     "data": {
      "text/plain": [
       "[('resume', 0.03331548263403559),\n",
       " ('builder', 0.01794143082067367),\n",
       " ('brand', 0.004628519582249359),\n",
       " ('recognition', 0.0024035088849929205),\n",
       " ('reputation', 0.0020942698581021503),\n",
       " ('resumebuilder', 0.0016951469766195713),\n",
       " ('employers', 0.0016502694822320087),\n",
       " ('connections', 0.0015917587825892503),\n",
       " ('firm', 0.0014774746837523478),\n",
       " ('networking', 0.0014484351624675749)]"
      ]
     },
     "execution_count": 37,
     "metadata": {},
     "output_type": "execute_result"
    }
   ],
   "source": [
    "model_q.get_topic(8)"
   ]
  },
  {
   "cell_type": "code",
   "execution_count": 38,
   "metadata": {},
   "outputs": [
    {
     "data": {
      "text/plain": [
       "[('co', 0.027812919912849992),\n",
       " ('workers', 0.021770011102893415),\n",
       " ('friends', 0.002630746910854403),\n",
       " ('facilities', 0.002120545365068419),\n",
       " ('linemen', 0.0018323506590512315),\n",
       " ('problemsopportunities', 0.0018323506590512315),\n",
       " ('social', 0.0016981886096858888),\n",
       " ('sharks', 0.0015945383746302207),\n",
       " ('coworker', 0.001545161420697929),\n",
       " ('diverse', 0.001520014938400386)]"
      ]
     },
     "execution_count": 38,
     "metadata": {},
     "output_type": "execute_result"
    }
   ],
   "source": [
    "model_q.get_topic(9)"
   ]
  },
  {
   "cell_type": "code",
   "execution_count": 39,
   "metadata": {},
   "outputs": [
    {
     "data": {
      "text/plain": [
       "[('treat', 0.010993796628545955),\n",
       " ('cares', 0.010528337484641636),\n",
       " ('takes', 0.006176524124696274),\n",
       " ('respect', 0.005670251954470697),\n",
       " ('treats', 0.004661082358213312),\n",
       " ('care', 0.004403343751141528),\n",
       " ('treated', 0.003926855640860617),\n",
       " ('caring', 0.00157985607937577),\n",
       " ('respectful', 0.0015641224852456718),\n",
       " ('ensure', 0.0015093967627306094)]"
      ]
     },
     "execution_count": 39,
     "metadata": {},
     "output_type": "execute_result"
    }
   ],
   "source": [
    "model_q.get_topic(10)"
   ]
  },
  {
   "cell_type": "markdown",
   "metadata": {},
   "source": [
    "# Low Stress"
   ]
  },
  {
   "cell_type": "code",
   "execution_count": 52,
   "metadata": {},
   "outputs": [
    {
     "name": "stdout",
     "output_type": "stream",
     "text": [
      "Q1 103965\n"
     ]
    }
   ],
   "source": [
    "### this cell takes some time to run\n",
    "Q = 'Q1'\n",
    "df_q = df[df['Q'] == Q]\n",
    "\n",
    "docs_q = list(df_q['pros'])\n",
    "print (Q, len(docs_q))\n",
    "\n",
    "docs_q_sample = docs_q   #[:1000]\n",
    "\n",
    "model_q1 = BERTopic()\n",
    "topics, probabilities = model_q1.fit_transform(docs_q_sample)"
   ]
  },
  {
   "cell_type": "code",
   "execution_count": 53,
   "metadata": {},
   "outputs": [
    {
     "data": {
      "text/html": [
       "<div>\n",
       "<style scoped>\n",
       "    .dataframe tbody tr th:only-of-type {\n",
       "        vertical-align: middle;\n",
       "    }\n",
       "\n",
       "    .dataframe tbody tr th {\n",
       "        vertical-align: top;\n",
       "    }\n",
       "\n",
       "    .dataframe thead th {\n",
       "        text-align: right;\n",
       "    }\n",
       "</style>\n",
       "<table border=\"1\" class=\"dataframe\">\n",
       "  <thead>\n",
       "    <tr style=\"text-align: right;\">\n",
       "      <th></th>\n",
       "      <th>Topic</th>\n",
       "      <th>Count</th>\n",
       "    </tr>\n",
       "  </thead>\n",
       "  <tbody>\n",
       "    <tr>\n",
       "      <th>0</th>\n",
       "      <td>-1</td>\n",
       "      <td>38802</td>\n",
       "    </tr>\n",
       "    <tr>\n",
       "      <th>1</th>\n",
       "      <td>0</td>\n",
       "      <td>1750</td>\n",
       "    </tr>\n",
       "    <tr>\n",
       "      <th>2</th>\n",
       "      <td>1</td>\n",
       "      <td>1488</td>\n",
       "    </tr>\n",
       "    <tr>\n",
       "      <th>3</th>\n",
       "      <td>2</td>\n",
       "      <td>1122</td>\n",
       "    </tr>\n",
       "    <tr>\n",
       "      <th>4</th>\n",
       "      <td>3</td>\n",
       "      <td>992</td>\n",
       "    </tr>\n",
       "    <tr>\n",
       "      <th>...</th>\n",
       "      <td>...</td>\n",
       "      <td>...</td>\n",
       "    </tr>\n",
       "    <tr>\n",
       "      <th>999</th>\n",
       "      <td>1014</td>\n",
       "      <td>10</td>\n",
       "    </tr>\n",
       "    <tr>\n",
       "      <th>998</th>\n",
       "      <td>1013</td>\n",
       "      <td>10</td>\n",
       "    </tr>\n",
       "    <tr>\n",
       "      <th>996</th>\n",
       "      <td>1017</td>\n",
       "      <td>10</td>\n",
       "    </tr>\n",
       "    <tr>\n",
       "      <th>995</th>\n",
       "      <td>1011</td>\n",
       "      <td>10</td>\n",
       "    </tr>\n",
       "    <tr>\n",
       "      <th>1025</th>\n",
       "      <td>1024</td>\n",
       "      <td>10</td>\n",
       "    </tr>\n",
       "  </tbody>\n",
       "</table>\n",
       "<p>1026 rows × 2 columns</p>\n",
       "</div>"
      ],
      "text/plain": [
       "      Topic  Count\n",
       "0        -1  38802\n",
       "1         0   1750\n",
       "2         1   1488\n",
       "3         2   1122\n",
       "4         3    992\n",
       "...     ...    ...\n",
       "999    1014     10\n",
       "998    1013     10\n",
       "996    1017     10\n",
       "995    1011     10\n",
       "1025   1024     10\n",
       "\n",
       "[1026 rows x 2 columns]"
      ]
     },
     "execution_count": 53,
     "metadata": {},
     "output_type": "execute_result"
    }
   ],
   "source": [
    "model_q1.get_topic_freq()"
   ]
  },
  {
   "cell_type": "code",
   "execution_count": 57,
   "metadata": {},
   "outputs": [
    {
     "data": {
      "text/plain": [
       "[('matching', 0.010953715655087586),\n",
       " ('401', 0.006554872853172311),\n",
       " ('pension', 0.005952893127524772),\n",
       " ('contribution', 0.00390969112797689),\n",
       " ('hsa', 0.003393557668802249),\n",
       " ('espp', 0.0030174292305785505),\n",
       " ('matched', 0.001853313412163958),\n",
       " ('savings', 0.0018267114554535759),\n",
       " ('retirement', 0.0017563460182245406),\n",
       " ('bonus', 0.0015385079828501662)]"
      ]
     },
     "execution_count": 57,
     "metadata": {},
     "output_type": "execute_result"
    }
   ],
   "source": [
    "model_q1.get_topic(0)"
   ]
  },
  {
   "cell_type": "code",
   "execution_count": 58,
   "metadata": {},
   "outputs": [
    {
     "data": {
      "text/plain": [
       "[('retail', 0.01009987960749644),\n",
       " ('clothes', 0.009269340018680005),\n",
       " ('store', 0.008404379125065035),\n",
       " ('discount', 0.008305984335852697),\n",
       " ('clothing', 0.006615596899699388),\n",
       " ('discounts', 0.005905367146244128),\n",
       " ('stores', 0.00475245544220652),\n",
       " ('merchandise', 0.003341971002074628),\n",
       " ('fashion', 0.001404255006427118),\n",
       " ('apparel', 0.001372787125182687)]"
      ]
     },
     "execution_count": 58,
     "metadata": {},
     "output_type": "execute_result"
    }
   ],
   "source": [
    "model_q1.get_topic(1)"
   ]
  },
  {
   "cell_type": "code",
   "execution_count": 59,
   "metadata": {},
   "outputs": [
    {
     "data": {
      "text/plain": [
       "[('cisco', 0.006412476451956254),\n",
       " ('ciscos', 0.004209701135191471),\n",
       " ('csap', 0.0013668906213434664),\n",
       " ('networking', 0.0010417774146086849),\n",
       " ('internet', 0.0010124070260189744),\n",
       " ('collaboration', 0.0009988798146839367),\n",
       " ('internship', 0.000992437960812626),\n",
       " ('interns', 0.0009237249976337028),\n",
       " ('joined', 0.0008479622714204106),\n",
       " ('silicon', 0.0007839171895522245)]"
      ]
     },
     "execution_count": 59,
     "metadata": {},
     "output_type": "execute_result"
    }
   ],
   "source": [
    "model_q1.get_topic(2)"
   ]
  },
  {
   "cell_type": "code",
   "execution_count": 60,
   "metadata": {},
   "outputs": [
    {
     "data": {
      "text/plain": [
       "[('co', 0.018195242259855988),\n",
       " ('workers', 0.011369317949439565),\n",
       " ('coworker', 0.0036457564294601896),\n",
       " ('coops', 0.0025058722846459528),\n",
       " ('coop', 0.002082997880536072),\n",
       " ('cooperative', 0.00198418470144587),\n",
       " ('con', 0.0012792344757532298),\n",
       " ('supervisor', 0.0011210395984412782),\n",
       " ('logistics', 0.0011006776832904767),\n",
       " ('cooperation', 0.0010086520119086874)]"
      ]
     },
     "execution_count": 60,
     "metadata": {},
     "output_type": "execute_result"
    }
   ],
   "source": [
    "model_q1.get_topic(3)"
   ]
  },
  {
   "cell_type": "code",
   "execution_count": 61,
   "metadata": {},
   "outputs": [
    {
     "data": {
      "text/plain": [
       "[('option', 0.004523155532933365),\n",
       " ('options', 0.0018838541436840867),\n",
       " ('workfromhome', 0.0018723478390496784),\n",
       " ('flex', 0.0017999689452341476),\n",
       " ('workhome', 0.0016732093533985387),\n",
       " ('fridays', 0.001354406335060148),\n",
       " ('arrangements', 0.001309378764798488),\n",
       " ('allow', 0.001249965802288488),\n",
       " ('days', 0.000997418488458025),\n",
       " ('schedules', 0.0009426165643904073)]"
      ]
     },
     "execution_count": 61,
     "metadata": {},
     "output_type": "execute_result"
    }
   ],
   "source": [
    "model_q1.get_topic(4)"
   ]
  },
  {
   "cell_type": "code",
   "execution_count": 62,
   "metadata": {},
   "outputs": [
    {
     "data": {
      "text/plain": [
       "[('airlines', 0.0130236276482254),\n",
       " ('airline', 0.012588374646198925),\n",
       " ('flights', 0.01102824426781679),\n",
       " ('airplanes', 0.00885020249789437),\n",
       " ('aircraft', 0.00873666104333538),\n",
       " ('aviation', 0.0052773096718480555),\n",
       " ('planes', 0.003781880932281141),\n",
       " ('airplane', 0.0030684346191290827),\n",
       " ('plane', 0.0019427930497900499),\n",
       " ('jet', 0.0018538618857739928)]"
      ]
     },
     "execution_count": 62,
     "metadata": {},
     "output_type": "execute_result"
    }
   ],
   "source": [
    "model_q1.get_topic(5)"
   ]
  },
  {
   "cell_type": "code",
   "execution_count": 63,
   "metadata": {},
   "outputs": [
    {
     "data": {
      "text/plain": [
       "[('project', 0.007910851370213303),\n",
       " ('variety', 0.002808897897236064),\n",
       " ('developers', 0.002337960455761485),\n",
       " ('assignments', 0.0016504846805613647),\n",
       " ('creative', 0.0016262783116801811),\n",
       " ('skill', 0.0013233990679479973),\n",
       " ('choose', 0.0012807685337445373),\n",
       " ('deadlines', 0.0012708267392012706),\n",
       " ('intelligent', 0.001206657929016271),\n",
       " ('design', 0.001183611127762787)]"
      ]
     },
     "execution_count": 63,
     "metadata": {},
     "output_type": "execute_result"
    }
   ],
   "source": [
    "model_q1.get_topic(6)"
   ]
  },
  {
   "cell_type": "code",
   "execution_count": 87,
   "metadata": {},
   "outputs": [
    {
     "data": {
      "text/plain": [
       "[('accenture', 0.01625835795750234),\n",
       " ('consulting', 0.005093800356738374),\n",
       " ('accentures', 0.004043765386145219),\n",
       " ('firms', 0.002007852578807306),\n",
       " ('consultants', 0.001164492916973679),\n",
       " ('clients', 0.0010598639042074455),\n",
       " ('workforce', 0.0010306339876541679),\n",
       " ('consultant', 0.0010215786424844294),\n",
       " ('hires', 0.0008899888377771387),\n",
       " ('outsourcing', 0.000853667233965526)]"
      ]
     },
     "execution_count": 87,
     "metadata": {},
     "output_type": "execute_result"
    }
   ],
   "source": [
    "model_q1.get_topic(7)"
   ]
  },
  {
   "cell_type": "code",
   "execution_count": 88,
   "metadata": {},
   "outputs": [
    {
     "data": {
      "text/plain": [
       "[('interns', 0.017788589496010858),\n",
       " ('internship', 0.016812274799052892),\n",
       " ('intern', 0.016091573165287885),\n",
       " ('internships', 0.0039079355918231785),\n",
       " ('relocation', 0.0016487391434127092),\n",
       " ('interning', 0.0016394842261437444),\n",
       " ('sessions', 0.0014737699644074762),\n",
       " ('mentors', 0.0013003344463196457),\n",
       " ('tasks', 0.001197462228933998),\n",
       " ('meetings', 0.0011847669392342998)]"
      ]
     },
     "execution_count": 88,
     "metadata": {},
     "output_type": "execute_result"
    }
   ],
   "source": [
    "model_q1.get_topic(8)"
   ]
  },
  {
   "cell_type": "code",
   "execution_count": 89,
   "metadata": {},
   "outputs": [
    {
     "data": {
      "text/plain": [
       "[('boeing', 0.023069334649229983),\n",
       " ('boeings', 0.0032770060413796044),\n",
       " ('aerospace', 0.0025305529365294527),\n",
       " ('degree', 0.0023346466181224175),\n",
       " ('airplanes', 0.0022527830165898636),\n",
       " ('tuition', 0.001874010290876099),\n",
       " ('airplane', 0.0014475033770137613),\n",
       " ('aircraft', 0.0013758582632602719),\n",
       " ('intern', 0.001020476546817479),\n",
       " ('cost', 0.0009842656312134932)]"
      ]
     },
     "execution_count": 89,
     "metadata": {},
     "output_type": "execute_result"
    }
   ],
   "source": [
    "model_q1.get_topic(9)"
   ]
  },
  {
   "cell_type": "code",
   "execution_count": 90,
   "metadata": {},
   "outputs": [
    {
     "data": {
      "text/plain": [
       "[('travel', 0.00973189350239836),\n",
       " ('traveling', 0.007956539148947266),\n",
       " ('international', 0.003465326260917782),\n",
       " ('travelling', 0.0029560485067760467),\n",
       " ('abroad', 0.0023573603030557885),\n",
       " ('airline', 0.0020294233019374952),\n",
       " ('foreign', 0.001826207542603985),\n",
       " ('countries', 0.0017169178220325311),\n",
       " ('internationally', 0.0015632804511410807),\n",
       " ('trip', 0.0014388691649693008)]"
      ]
     },
     "execution_count": 90,
     "metadata": {},
     "output_type": "execute_result"
    }
   ],
   "source": [
    "model_q1.get_topic(10)"
   ]
  },
  {
   "cell_type": "code",
   "execution_count": null,
   "metadata": {},
   "outputs": [],
   "source": []
  },
  {
   "cell_type": "markdown",
   "metadata": {},
   "source": [
    "# Negative Stress"
   ]
  },
  {
   "cell_type": "code",
   "execution_count": 54,
   "metadata": {},
   "outputs": [
    {
     "name": "stdout",
     "output_type": "stream",
     "text": [
      "Q3 152265\n"
     ]
    }
   ],
   "source": [
    "### this cell takes some time to run\n",
    "Q = 'Q3'\n",
    "df_q = df[df['Q'] == Q]\n",
    "\n",
    "docs_q = list(df_q['pros'])\n",
    "print (Q, len(docs_q))\n",
    "\n",
    "docs_q_sample = docs_q   #[:1000]\n",
    "\n",
    "model_q3 = BERTopic()\n",
    "topics, probabilities = model_q3.fit_transform(docs_q_sample)"
   ]
  },
  {
   "cell_type": "code",
   "execution_count": 55,
   "metadata": {},
   "outputs": [
    {
     "data": {
      "text/html": [
       "<div>\n",
       "<style scoped>\n",
       "    .dataframe tbody tr th:only-of-type {\n",
       "        vertical-align: middle;\n",
       "    }\n",
       "\n",
       "    .dataframe tbody tr th {\n",
       "        vertical-align: top;\n",
       "    }\n",
       "\n",
       "    .dataframe thead th {\n",
       "        text-align: right;\n",
       "    }\n",
       "</style>\n",
       "<table border=\"1\" class=\"dataframe\">\n",
       "  <thead>\n",
       "    <tr style=\"text-align: right;\">\n",
       "      <th></th>\n",
       "      <th>Topic</th>\n",
       "      <th>Count</th>\n",
       "    </tr>\n",
       "  </thead>\n",
       "  <tbody>\n",
       "    <tr>\n",
       "      <th>0</th>\n",
       "      <td>-1</td>\n",
       "      <td>60557</td>\n",
       "    </tr>\n",
       "    <tr>\n",
       "      <th>1</th>\n",
       "      <td>0</td>\n",
       "      <td>2834</td>\n",
       "    </tr>\n",
       "    <tr>\n",
       "      <th>2</th>\n",
       "      <td>1</td>\n",
       "      <td>2554</td>\n",
       "    </tr>\n",
       "    <tr>\n",
       "      <th>3</th>\n",
       "      <td>2</td>\n",
       "      <td>1990</td>\n",
       "    </tr>\n",
       "    <tr>\n",
       "      <th>4</th>\n",
       "      <td>3</td>\n",
       "      <td>1732</td>\n",
       "    </tr>\n",
       "    <tr>\n",
       "      <th>...</th>\n",
       "      <td>...</td>\n",
       "      <td>...</td>\n",
       "    </tr>\n",
       "    <tr>\n",
       "      <th>1129</th>\n",
       "      <td>1145</td>\n",
       "      <td>10</td>\n",
       "    </tr>\n",
       "    <tr>\n",
       "      <th>1128</th>\n",
       "      <td>1144</td>\n",
       "      <td>10</td>\n",
       "    </tr>\n",
       "    <tr>\n",
       "      <th>1127</th>\n",
       "      <td>1149</td>\n",
       "      <td>10</td>\n",
       "    </tr>\n",
       "    <tr>\n",
       "      <th>1126</th>\n",
       "      <td>1143</td>\n",
       "      <td>10</td>\n",
       "    </tr>\n",
       "    <tr>\n",
       "      <th>1158</th>\n",
       "      <td>1157</td>\n",
       "      <td>10</td>\n",
       "    </tr>\n",
       "  </tbody>\n",
       "</table>\n",
       "<p>1159 rows × 2 columns</p>\n",
       "</div>"
      ],
      "text/plain": [
       "      Topic  Count\n",
       "0        -1  60557\n",
       "1         0   2834\n",
       "2         1   2554\n",
       "3         2   1990\n",
       "4         3   1732\n",
       "...     ...    ...\n",
       "1129   1145     10\n",
       "1128   1144     10\n",
       "1127   1149     10\n",
       "1126   1143     10\n",
       "1158   1157     10\n",
       "\n",
       "[1159 rows x 2 columns]"
      ]
     },
     "execution_count": 55,
     "metadata": {},
     "output_type": "execute_result"
    }
   ],
   "source": [
    "model_q3.get_topic_freq()"
   ]
  },
  {
   "cell_type": "code",
   "execution_count": 64,
   "metadata": {},
   "outputs": [
    {
     "data": {
      "text/plain": [
       "[('items', 0.004933721787263675),\n",
       " ('merchandise', 0.004557776751126416),\n",
       " ('sale', 0.003142290125546288),\n",
       " ('discounted', 0.002213139982095919),\n",
       " ('coupons', 0.0020687204584403616),\n",
       " ('deals', 0.0015098807730469649),\n",
       " ('purchases', 0.0013859847372314242),\n",
       " ('prices', 0.0013809570496692526),\n",
       " ('purchase', 0.0013229460892435726),\n",
       " ('price', 0.0010798921835432857)]"
      ]
     },
     "execution_count": 64,
     "metadata": {},
     "output_type": "execute_result"
    }
   ],
   "source": [
    "model_q3.get_topic(0)"
   ]
  },
  {
   "cell_type": "code",
   "execution_count": 65,
   "metadata": {},
   "outputs": [
    {
     "data": {
      "text/plain": [
       "[('matching', 0.008611954908823891),\n",
       " ('401', 0.007242856873460861),\n",
       " ('pension', 0.004781322567082466),\n",
       " ('hsa', 0.004503581267896316),\n",
       " ('contribution', 0.0029869601498318144),\n",
       " ('matched', 0.0025997494151192356),\n",
       " ('espp', 0.002348229484956908),\n",
       " ('vested', 0.0021854730106840568),\n",
       " ('retirement', 0.0017478562923298527),\n",
       " ('savings', 0.0014805052957054653)]"
      ]
     },
     "execution_count": 65,
     "metadata": {},
     "output_type": "execute_result"
    }
   ],
   "source": [
    "model_q3.get_topic(1)"
   ]
  },
  {
   "cell_type": "code",
   "execution_count": 66,
   "metadata": {},
   "outputs": [
    {
     "data": {
      "text/plain": [
       "[('ibms', 0.0037473447715719384),\n",
       " ('ibmers', 0.0029217757660325912),\n",
       " ('ibmer', 0.0017825429013501592),\n",
       " ('consulting', 0.0017130745988879665),\n",
       " ('watson', 0.0016277156097923068),\n",
       " ('cloud', 0.0015153839164567524),\n",
       " ('cognitive', 0.0011711176269254475),\n",
       " ('clients', 0.001158795108348226),\n",
       " ('computing', 0.000863557293940516),\n",
       " ('expertise', 0.0007953344061089905)]"
      ]
     },
     "execution_count": 66,
     "metadata": {},
     "output_type": "execute_result"
    }
   ],
   "source": [
    "model_q3.get_topic(2)"
   ]
  },
  {
   "cell_type": "code",
   "execution_count": 67,
   "metadata": {},
   "outputs": [
    {
     "data": {
      "text/plain": [
       "[('meal', 0.010032552975666395),\n",
       " ('meals', 0.00939365750972728),\n",
       " ('bread', 0.005497273929843072),\n",
       " ('eat', 0.0054838589657254634),\n",
       " ('pastries', 0.004866115857104281),\n",
       " ('delicious', 0.0037912960867302293),\n",
       " ('baked', 0.0034250891601916465),\n",
       " ('bakery', 0.0032611001203998093),\n",
       " ('foods', 0.002636842360741023),\n",
       " ('restaurant', 0.0024381919847523952)]"
      ]
     },
     "execution_count": 67,
     "metadata": {},
     "output_type": "execute_result"
    }
   ],
   "source": [
    "model_q3.get_topic(3)"
   ]
  },
  {
   "cell_type": "code",
   "execution_count": 68,
   "metadata": {},
   "outputs": [
    {
     "data": {
      "text/plain": [
       "[('animals', 0.02164635671621851),\n",
       " ('pets', 0.019528897836373234),\n",
       " ('pet', 0.016586491923275232),\n",
       " ('dogs', 0.01527756856950129),\n",
       " ('petsmart', 0.012324312989981021),\n",
       " ('animal', 0.007306607039414161),\n",
       " ('cats', 0.004509071953485111),\n",
       " ('puppies', 0.003845483415338294),\n",
       " ('birds', 0.0015894065704523323),\n",
       " ('petshotel', 0.0015250511694861336)]"
      ]
     },
     "execution_count": 68,
     "metadata": {},
     "output_type": "execute_result"
    }
   ],
   "source": [
    "model_q3.get_topic(4)"
   ]
  },
  {
   "cell_type": "code",
   "execution_count": 69,
   "metadata": {},
   "outputs": [
    {
     "data": {
      "text/plain": [
       "[('pharmacy', 0.0189465328096867),\n",
       " ('pharmacist', 0.013053300115412529),\n",
       " ('pharmacists', 0.011847577935675976),\n",
       " ('technician', 0.006330343731109191),\n",
       " ('pharmacies', 0.005001728666624509),\n",
       " ('pharmaceutical', 0.004598579082438747),\n",
       " ('pharma', 0.003991338343937227),\n",
       " ('techs', 0.0031036846488633903),\n",
       " ('pharm', 0.002606986766524982),\n",
       " ('pharmaceuticals', 0.0016599237368201342)]"
      ]
     },
     "execution_count": 69,
     "metadata": {},
     "output_type": "execute_result"
    }
   ],
   "source": [
    "model_q3.get_topic(5)"
   ]
  },
  {
   "cell_type": "code",
   "execution_count": 70,
   "metadata": {},
   "outputs": [
    {
     "data": {
      "text/plain": [
       "[('cafeteria', 0.02860425960102788),\n",
       " ('gym', 0.021615178024372933),\n",
       " ('cafe', 0.013096835431717083),\n",
       " ('starbucks', 0.007748417224539228),\n",
       " ('facility', 0.004926707338060471),\n",
       " ('coffee', 0.004811746793802298),\n",
       " ('lunch', 0.0048052523131799935),\n",
       " ('cafeterias', 0.003637133511699153),\n",
       " ('facilities', 0.0023030854877398492),\n",
       " ('rooms', 0.002010915873146666)]"
      ]
     },
     "execution_count": 70,
     "metadata": {},
     "output_type": "execute_result"
    }
   ],
   "source": [
    "model_q3.get_topic(6)"
   ]
  },
  {
   "cell_type": "code",
   "execution_count": 71,
   "metadata": {},
   "outputs": [
    {
     "data": {
      "text/plain": [
       "[('union', 0.020518492119003886),\n",
       " ('unionized', 0.007572010737060887),\n",
       " ('fired', 0.004111241638863028),\n",
       " ('unions', 0.0027391368863787387),\n",
       " ('raises', 0.002564214045458251),\n",
       " ('wages', 0.002301737214321711),\n",
       " ('increases', 0.0019511190322981237),\n",
       " ('labor', 0.0018441804967175722),\n",
       " ('raise', 0.001626265604710182),\n",
       " ('hourly', 0.0015620510070476193)]"
      ]
     },
     "execution_count": 71,
     "metadata": {},
     "output_type": "execute_result"
    }
   ],
   "source": [
    "model_q3.get_topic(7)"
   ]
  },
  {
   "cell_type": "code",
   "execution_count": 84,
   "metadata": {},
   "outputs": [
    {
     "data": {
      "text/plain": [
       "[('overtime', 0.018338582593970164),\n",
       " ('unlimited', 0.004916837293465764),\n",
       " ('mandatory', 0.0036893645754846136),\n",
       " ('ot', 0.002540427014185308),\n",
       " ('hourly', 0.002344298262178088),\n",
       " ('extra', 0.0019124538454610718),\n",
       " ('aep', 0.0017976115359293315),\n",
       " ('offered', 0.0017111817911137737),\n",
       " ('incentives', 0.0014055410543882848),\n",
       " ('wages', 0.0011537996134888642)]"
      ]
     },
     "execution_count": 84,
     "metadata": {},
     "output_type": "execute_result"
    }
   ],
   "source": [
    "model_q3.get_topic(8)"
   ]
  },
  {
   "cell_type": "code",
   "execution_count": 85,
   "metadata": {},
   "outputs": [
    {
     "data": {
      "text/plain": [
       "[('growing', 0.005730320410175474),\n",
       " ('huge', 0.0032506337876448067),\n",
       " ('expanding', 0.0026788570603769706),\n",
       " ('largest', 0.0022026729055446967),\n",
       " ('country', 0.002124123992678234),\n",
       " ('divisions', 0.001849249436355075),\n",
       " ('evolving', 0.0017682876109830744),\n",
       " ('areas', 0.0016024961762634892),\n",
       " ('states', 0.001496643733109903),\n",
       " ('massive', 0.0013305725372617125)]"
      ]
     },
     "execution_count": 85,
     "metadata": {},
     "output_type": "execute_result"
    }
   ],
   "source": [
    "model_q3.get_topic(9)"
   ]
  },
  {
   "cell_type": "code",
   "execution_count": 86,
   "metadata": {},
   "outputs": [
    {
     "data": {
      "text/plain": [
       "[('pto', 0.006931710161533248),\n",
       " ('pt', 0.004124885003933),\n",
       " ('ptcb', 0.003943895535655496),\n",
       " ('accrued', 0.0021179278593211675),\n",
       " ('ptos', 0.0020271905623015464),\n",
       " ('amount', 0.0020114433261056333),\n",
       " ('40', 0.0015167071517281847),\n",
       " ('per', 0.0015107329277325551),\n",
       " ('fto', 0.0011297846669203638),\n",
       " ('90', 0.0011160138528910647)]"
      ]
     },
     "execution_count": 86,
     "metadata": {},
     "output_type": "execute_result"
    }
   ],
   "source": [
    "model_q3.get_topic(10)"
   ]
  },
  {
   "cell_type": "code",
   "execution_count": null,
   "metadata": {},
   "outputs": [],
   "source": []
  },
  {
   "cell_type": "markdown",
   "metadata": {},
   "source": [
    "# Passive "
   ]
  },
  {
   "cell_type": "code",
   "execution_count": 72,
   "metadata": {},
   "outputs": [
    {
     "name": "stdout",
     "output_type": "stream",
     "text": [
      "Q2 83279\n"
     ]
    }
   ],
   "source": [
    "### this cell takes some time to run\n",
    "Q = 'Q2'\n",
    "df_q = df[df['Q'] == Q]\n",
    "\n",
    "docs_q = list(df_q['pros'].astype(str))\n",
    "print (Q, len(docs_q))\n",
    "\n",
    "docs_q_sample = docs_q   #[:1000]\n",
    "\n",
    "model_q2 = BERTopic()\n",
    "topics, probabilities = model_q2.fit_transform(docs_q_sample)"
   ]
  },
  {
   "cell_type": "code",
   "execution_count": 73,
   "metadata": {},
   "outputs": [
    {
     "data": {
      "text/html": [
       "<div>\n",
       "<style scoped>\n",
       "    .dataframe tbody tr th:only-of-type {\n",
       "        vertical-align: middle;\n",
       "    }\n",
       "\n",
       "    .dataframe tbody tr th {\n",
       "        vertical-align: top;\n",
       "    }\n",
       "\n",
       "    .dataframe thead th {\n",
       "        text-align: right;\n",
       "    }\n",
       "</style>\n",
       "<table border=\"1\" class=\"dataframe\">\n",
       "  <thead>\n",
       "    <tr style=\"text-align: right;\">\n",
       "      <th></th>\n",
       "      <th>Topic</th>\n",
       "      <th>Count</th>\n",
       "    </tr>\n",
       "  </thead>\n",
       "  <tbody>\n",
       "    <tr>\n",
       "      <th>0</th>\n",
       "      <td>-1</td>\n",
       "      <td>32578</td>\n",
       "    </tr>\n",
       "    <tr>\n",
       "      <th>1</th>\n",
       "      <td>0</td>\n",
       "      <td>4502</td>\n",
       "    </tr>\n",
       "    <tr>\n",
       "      <th>2</th>\n",
       "      <td>1</td>\n",
       "      <td>1148</td>\n",
       "    </tr>\n",
       "    <tr>\n",
       "      <th>3</th>\n",
       "      <td>2</td>\n",
       "      <td>1013</td>\n",
       "    </tr>\n",
       "    <tr>\n",
       "      <th>4</th>\n",
       "      <td>3</td>\n",
       "      <td>980</td>\n",
       "    </tr>\n",
       "    <tr>\n",
       "      <th>...</th>\n",
       "      <td>...</td>\n",
       "      <td>...</td>\n",
       "    </tr>\n",
       "    <tr>\n",
       "      <th>751</th>\n",
       "      <td>767</td>\n",
       "      <td>10</td>\n",
       "    </tr>\n",
       "    <tr>\n",
       "      <th>750</th>\n",
       "      <td>766</td>\n",
       "      <td>10</td>\n",
       "    </tr>\n",
       "    <tr>\n",
       "      <th>749</th>\n",
       "      <td>765</td>\n",
       "      <td>10</td>\n",
       "    </tr>\n",
       "    <tr>\n",
       "      <th>748</th>\n",
       "      <td>771</td>\n",
       "      <td>10</td>\n",
       "    </tr>\n",
       "    <tr>\n",
       "      <th>779</th>\n",
       "      <td>778</td>\n",
       "      <td>10</td>\n",
       "    </tr>\n",
       "  </tbody>\n",
       "</table>\n",
       "<p>780 rows × 2 columns</p>\n",
       "</div>"
      ],
      "text/plain": [
       "     Topic  Count\n",
       "0       -1  32578\n",
       "1        0   4502\n",
       "2        1   1148\n",
       "3        2   1013\n",
       "4        3    980\n",
       "..     ...    ...\n",
       "751    767     10\n",
       "750    766     10\n",
       "749    765     10\n",
       "748    771     10\n",
       "779    778     10\n",
       "\n",
       "[780 rows x 2 columns]"
      ]
     },
     "execution_count": 73,
     "metadata": {},
     "output_type": "execute_result"
    }
   ],
   "source": [
    "model_q2.get_topic_freq()"
   ]
  },
  {
   "cell_type": "code",
   "execution_count": 74,
   "metadata": {},
   "outputs": [
    {
     "data": {
      "text/plain": [
       "[('retail', 0.0035073803254585994),\n",
       " ('cashier', 0.0026327770869572172),\n",
       " ('interaction', 0.002325536587283972),\n",
       " ('cashiers', 0.0017134859146209478),\n",
       " ('interact', 0.0014278021689377062),\n",
       " ('shop', 0.0013156253039064516),\n",
       " ('interacting', 0.001305468165657974),\n",
       " ('relationships', 0.0011880272466117192),\n",
       " ('interactions', 0.0011445053018993992),\n",
       " ('satisfaction', 0.0010413791634554816)]"
      ]
     },
     "execution_count": 74,
     "metadata": {},
     "output_type": "execute_result"
    }
   ],
   "source": [
    "model_q2.get_topic(0)"
   ]
  },
  {
   "cell_type": "code",
   "execution_count": 75,
   "metadata": {},
   "outputs": [
    {
     "data": {
      "text/plain": [
       "[('matching', 0.0132875745792491),\n",
       " ('401', 0.008297230879059345),\n",
       " ('pension', 0.005522932634702207),\n",
       " ('espp', 0.0037308879205877766),\n",
       " ('hsa', 0.0031847607888078316),\n",
       " ('vested', 0.0030267944214692685),\n",
       " ('options', 0.00299862212724995),\n",
       " ('plans', 0.0028079015458221607),\n",
       " ('401k', 0.0025041451914635834),\n",
       " ('insurance', 0.002472834427942533)]"
      ]
     },
     "execution_count": 75,
     "metadata": {},
     "output_type": "execute_result"
    }
   ],
   "source": [
    "model_q2.get_topic(1)"
   ]
  },
  {
   "cell_type": "code",
   "execution_count": 184,
   "metadata": {},
   "outputs": [
    {
     "data": {
      "text/plain": [
       "[('vacation', 0.031547121577599466),\n",
       " ('holidays', 0.019264186973232702),\n",
       " ('holiday', 0.01537578381768797),\n",
       " ('weeks', 0.012208881021730558),\n",
       " ('days', 0.010433098289656662),\n",
       " ('vacations', 0.008108476846836077),\n",
       " ('christmas', 0.006780931523648347),\n",
       " ('pto', 0.003924131996028445),\n",
       " ('weekends', 0.0036918374045146283),\n",
       " ('vacationsick', 0.0033075286553521403)]"
      ]
     },
     "execution_count": 184,
     "metadata": {},
     "output_type": "execute_result"
    }
   ],
   "source": [
    "model_q2.get_topic(2)"
   ]
  },
  {
   "cell_type": "code",
   "execution_count": 76,
   "metadata": {},
   "outputs": [
    {
     "data": {
      "text/plain": [
       "[('leadership', 0.010262773728210136),\n",
       " ('ceo', 0.008786132260598864),\n",
       " ('leaders', 0.0063669612728878885),\n",
       " ('executive', 0.006210221395831007),\n",
       " ('leader', 0.0030585372286056306),\n",
       " ('visionary', 0.002254542933141869),\n",
       " ('change', 0.0020841076279616744),\n",
       " ('focus', 0.001977246026482197),\n",
       " ('strategy', 0.0017983521077965788),\n",
       " ('organization', 0.0016918252525909175)]"
      ]
     },
     "execution_count": 76,
     "metadata": {},
     "output_type": "execute_result"
    }
   ],
   "source": [
    "model_q2.get_topic(3)"
   ]
  },
  {
   "cell_type": "code",
   "execution_count": 77,
   "metadata": {},
   "outputs": [
    {
     "data": {
      "text/plain": [
       "[('depot', 0.014042022651797728),\n",
       " ('depots', 0.0019078136744467165),\n",
       " ('hd', 0.0014868509334109187),\n",
       " ('retail', 0.0013561024821208613),\n",
       " ('stores', 0.0013451761168469516),\n",
       " ('offers', 0.0012523878064967236),\n",
       " ('improvement', 0.0011696077894863448),\n",
       " ('kitchen', 0.0011299947328011237),\n",
       " ('cashier', 0.0010884195746496547),\n",
       " ('purchase', 0.0010694734585888716)]"
      ]
     },
     "execution_count": 77,
     "metadata": {},
     "output_type": "execute_result"
    }
   ],
   "source": [
    "model_q2.get_topic(4)"
   ]
  },
  {
   "cell_type": "code",
   "execution_count": 78,
   "metadata": {},
   "outputs": [
    {
     "data": {
      "text/plain": [
       "[('oracle', 0.015739208067909148),\n",
       " ('oracles', 0.004100414050736372),\n",
       " ('cloud', 0.0034003576570823283),\n",
       " ('database', 0.0032095448628892773),\n",
       " ('enterprise', 0.002102303410814977),\n",
       " ('applications', 0.0018708848274512533),\n",
       " ('acquired', 0.0017823813257175057),\n",
       " ('acquisition', 0.0014142407157629628),\n",
       " ('acquisitions', 0.0013436922855517449),\n",
       " ('ibm', 0.0012501383930526358)]"
      ]
     },
     "execution_count": 78,
     "metadata": {},
     "output_type": "execute_result"
    }
   ],
   "source": [
    "model_q2.get_topic(5)"
   ]
  },
  {
   "cell_type": "code",
   "execution_count": 79,
   "metadata": {},
   "outputs": [
    {
     "data": {
      "text/plain": [
       "[('sick', 0.02235771515935971),\n",
       " ('vacation', 0.015429605052854569),\n",
       " ('vacations', 0.010021455524089727),\n",
       " ('weeks', 0.009588850395307675),\n",
       " ('days', 0.0040742645476897444),\n",
       " ('holidays', 0.0031791944755016777),\n",
       " ('week', 0.0023222132185299746),\n",
       " ('sabbatical', 0.0022035388054581096),\n",
       " ('dental', 0.0018013747163375296),\n",
       " ('appointment', 0.0016244799246293283)]"
      ]
     },
     "execution_count": 79,
     "metadata": {},
     "output_type": "execute_result"
    }
   ],
   "source": [
    "model_q2.get_topic(6)"
   ]
  },
  {
   "cell_type": "code",
   "execution_count": 80,
   "metadata": {},
   "outputs": [
    {
     "data": {
      "text/plain": [
       "[('members', 0.011903691599104791),\n",
       " ('teamwork', 0.01090017614995077),\n",
       " ('teams', 0.009822127213411773),\n",
       " ('teammates', 0.004790165540957956),\n",
       " ('players', 0.004354695946325414),\n",
       " ('goals', 0.0020250408558096056),\n",
       " ('bonding', 0.0018723484121647659),\n",
       " ('hardworking', 0.0018256684398653183),\n",
       " ('challenge', 0.0017499101517643731),\n",
       " ('effort', 0.0015727380008702582)]"
      ]
     },
     "execution_count": 80,
     "metadata": {},
     "output_type": "execute_result"
    }
   ],
   "source": [
    "model_q2.get_topic(7)"
   ]
  },
  {
   "cell_type": "code",
   "execution_count": 81,
   "metadata": {},
   "outputs": [
    {
     "data": {
      "text/plain": [
       "[('internship', 0.0028096993814604038),\n",
       " ('coupons', 0.0027530936687498414),\n",
       " ('interns', 0.0021273905622157863),\n",
       " ('associate', 0.0018788626386149277),\n",
       " ('retail', 0.0017380380378109273),\n",
       " ('stores', 0.0016135193257270752),\n",
       " ('cares', 0.0015625771624374106),\n",
       " ('volunteer', 0.0013858603648794381),\n",
       " ('happy', 0.0013386576251128352),\n",
       " ('intern', 0.0013003837677621531)]"
      ]
     },
     "execution_count": 81,
     "metadata": {},
     "output_type": "execute_result"
    }
   ],
   "source": [
    "model_q2.get_topic(8)"
   ]
  },
  {
   "cell_type": "code",
   "execution_count": 82,
   "metadata": {},
   "outputs": [
    {
     "data": {
      "text/plain": [
       "[('co', 0.020017993840814523),\n",
       " ('workers', 0.011223421072226255),\n",
       " ('pleasant', 0.004367596813940815),\n",
       " ('supervisors', 0.002882586136537736),\n",
       " ('cooperative', 0.002876591931441056),\n",
       " ('jobl', 0.002751517657963436),\n",
       " ('supportive', 0.002385294914281779),\n",
       " ('coworker', 0.0023839647504204594),\n",
       " ('worker', 0.00232199206666806),\n",
       " ('stress', 0.0018862008552789204)]"
      ]
     },
     "execution_count": 82,
     "metadata": {},
     "output_type": "execute_result"
    }
   ],
   "source": [
    "model_q2.get_topic(9)"
   ]
  },
  {
   "cell_type": "code",
   "execution_count": 83,
   "metadata": {},
   "outputs": [
    {
     "data": {
      "text/plain": [
       "[('items', 0.010048171927218264),\n",
       " ('discounts', 0.008229465147784292),\n",
       " ('deals', 0.003817694328233239),\n",
       " ('sale', 0.0034991122663038223),\n",
       " ('clothes', 0.0028730766426308387),\n",
       " ('merchandise', 0.002660566203025293),\n",
       " ('purchases', 0.0023617122974224553),\n",
       " ('shopping', 0.002251598165816117),\n",
       " ('bargain', 0.0019156862793218285),\n",
       " ('discounted', 0.0019023756020731541)]"
      ]
     },
     "execution_count": 83,
     "metadata": {},
     "output_type": "execute_result"
    }
   ],
   "source": [
    "model_q2.get_topic(10)"
   ]
  },
  {
   "cell_type": "code",
   "execution_count": null,
   "metadata": {},
   "outputs": [],
   "source": []
  },
  {
   "cell_type": "code",
   "execution_count": null,
   "metadata": {},
   "outputs": [],
   "source": []
  },
  {
   "cell_type": "code",
   "execution_count": null,
   "metadata": {},
   "outputs": [],
   "source": []
  },
  {
   "cell_type": "code",
   "execution_count": null,
   "metadata": {},
   "outputs": [],
   "source": []
  },
  {
   "cell_type": "markdown",
   "metadata": {},
   "source": [
    "# We can repeat the same steps as above but by putting a threshold on a company's strentgh of association to a stress type. \n",
    "\n",
    "This will enable us to better separate stress types from each other and hopefully discover the topics that are typical only of each of the stress types and not the others. "
   ]
  },
  {
   "cell_type": "code",
   "execution_count": 115,
   "metadata": {},
   "outputs": [],
   "source": [
    "# Let us define the 50th percentile thresholds based on f(Q) and subset the data for each stress type"
   ]
  },
  {
   "cell_type": "code",
   "execution_count": 116,
   "metadata": {},
   "outputs": [
    {
     "name": "stdout",
     "output_type": "stream",
     "text": [
      "Q1 0.1228057420895546\n",
      "Q2 0.1150886100483765\n",
      "Q3 0.1957844774991327\n",
      "Q4 0.1443503151769409\n"
     ]
    }
   ],
   "source": [
    "Q_threshold = {}\n",
    "for Q in ['Q1', 'Q2', 'Q3', 'Q4']:\n",
    "    \n",
    "    df_q = df[df['Q'] == Q].copy()\n",
    "    \n",
    "    df_q[Q+'_mean'] = np.mean(df_q['f(Q)'])\n",
    "    df_q[Q+'_std'] = np.std(df_q['f(Q)'])\n",
    "    \n",
    "    df_q[Q+'_50th_pct'] = df_q['f(Q)'].quantile(0.5)\n",
    "    \n",
    "    print (Q, df_q['f(Q)'].quantile(0.5))\n",
    "    \n",
    "    Q_threshold[Q] = df_q['f(Q)'].quantile(0.5)"
   ]
  },
  {
   "cell_type": "markdown",
   "metadata": {},
   "source": [
    "### Visualise the thresholding we plan to apply\n",
    "\n",
    "yellow line shows the 50th percentile thresold and red the mean of the data"
   ]
  },
  {
   "cell_type": "code",
   "execution_count": 118,
   "metadata": {},
   "outputs": [
    {
     "data": {
      "image/png": "[encoded data removed]",
      "text/plain": [
       "<Figure size 720x1152 with 4 Axes>"
      ]
     },
     "metadata": {
      "needs_background": "light"
     },
     "output_type": "display_data"
    }
   ],
   "source": [
    "# Set up figure\n",
    "fig, ax = plt.subplots(4, figsize=(10, 16))\n",
    "\n",
    "i = 0\n",
    "\n",
    "for Q in ['Q1', 'Q2', 'Q3', 'Q4']:\n",
    "    \n",
    "    df_q = df[df['Q'] == Q].copy().reset_index()\n",
    "\n",
    "    df_q[Q+'_mean'] = np.mean(df_q['f(Q)'])\n",
    "    df_q[Q+'_std'] = np.std(df_q['f(Q)'])\n",
    "    df_q[Q+'_50th_pct'] = df_q['f(Q)'].quantile(0.5)\n",
    "    \n",
    "    st_mean = float(df_q[Q+'_mean'].loc[0])\n",
    "    st_std = float(df_q[Q+'_std'].loc[0])\n",
    "    st_threshold = float(df_q[Q+'_50th_pct'].loc[0])\n",
    "    \n",
    "    df_q['f(Q)'].hist( ax=ax[i] )\n",
    "\n",
    "    # Plot vertical lines\n",
    "    ax[i].axvline(st_mean, color=\"red\", linestyle=\"--\", lw=2, label=\"lancement\")\n",
    "    ax[i].axvline(st_threshold, color=\"gold\", linestyle=\"--\", lw=2, label=\"test\")\n",
    "    \n",
    "    ax[i].set_title(Q)\n",
    "    \n",
    "    i+= 1"
   ]
  },
  {
   "cell_type": "markdown",
   "metadata": {},
   "source": [
    "# Positive Stress"
   ]
  },
  {
   "cell_type": "code",
   "execution_count": 123,
   "metadata": {},
   "outputs": [
    {
     "name": "stdout",
     "output_type": "stream",
     "text": [
      "we parse 47141 out of 99654 docs\n",
      "Q4 47141\n"
     ]
    }
   ],
   "source": [
    "### this cell takes some time to run\n",
    "Q = 'Q4'\n",
    "# subset the data and threshold on f(Q)'s 50th percentile'\n",
    "df_q_50thpct = df[ (df['Q'] == Q) & (df['f(Q)'] > Q_threshold[Q]) ]\n",
    "print ('we parse {} out of {} docs'.format(len(df_q_50thpct), len(df_q)) )\n",
    "\n",
    "# create a list of documents, i.e., pros\n",
    "docs_q = list(df_q_50thpct['pros'])\n",
    "print (Q, len(docs_q))\n",
    "\n",
    "# if you want to sample, for testing the code uncomment the second part\n",
    "docs_q_sample = docs_q#[:1000]\n",
    "\n",
    "# run model\n",
    "model_q = BERTopic()\n",
    "topics, probabilities = model_q.fit_transform(docs_q_sample)"
   ]
  },
  {
   "cell_type": "code",
   "execution_count": 172,
   "metadata": {},
   "outputs": [],
   "source": [
    "model_q4 = model_q"
   ]
  },
  {
   "cell_type": "code",
   "execution_count": 169,
   "metadata": {},
   "outputs": [
    {
     "data": {
      "text/html": [
       "<div>\n",
       "<style scoped>\n",
       "    .dataframe tbody tr th:only-of-type {\n",
       "        vertical-align: middle;\n",
       "    }\n",
       "\n",
       "    .dataframe tbody tr th {\n",
       "        vertical-align: top;\n",
       "    }\n",
       "\n",
       "    .dataframe thead th {\n",
       "        text-align: right;\n",
       "    }\n",
       "</style>\n",
       "<table border=\"1\" class=\"dataframe\">\n",
       "  <thead>\n",
       "    <tr style=\"text-align: right;\">\n",
       "      <th></th>\n",
       "      <th>Topic</th>\n",
       "      <th>Count</th>\n",
       "    </tr>\n",
       "  </thead>\n",
       "  <tbody>\n",
       "    <tr>\n",
       "      <th>0</th>\n",
       "      <td>-1</td>\n",
       "      <td>18253</td>\n",
       "    </tr>\n",
       "    <tr>\n",
       "      <th>1</th>\n",
       "      <td>0</td>\n",
       "      <td>1818</td>\n",
       "    </tr>\n",
       "    <tr>\n",
       "      <th>2</th>\n",
       "      <td>1</td>\n",
       "      <td>1444</td>\n",
       "    </tr>\n",
       "    <tr>\n",
       "      <th>3</th>\n",
       "      <td>2</td>\n",
       "      <td>818</td>\n",
       "    </tr>\n",
       "    <tr>\n",
       "      <th>4</th>\n",
       "      <td>3</td>\n",
       "      <td>700</td>\n",
       "    </tr>\n",
       "    <tr>\n",
       "      <th>5</th>\n",
       "      <td>4</td>\n",
       "      <td>658</td>\n",
       "    </tr>\n",
       "    <tr>\n",
       "      <th>6</th>\n",
       "      <td>5</td>\n",
       "      <td>615</td>\n",
       "    </tr>\n",
       "    <tr>\n",
       "      <th>7</th>\n",
       "      <td>6</td>\n",
       "      <td>446</td>\n",
       "    </tr>\n",
       "    <tr>\n",
       "      <th>8</th>\n",
       "      <td>7</td>\n",
       "      <td>419</td>\n",
       "    </tr>\n",
       "    <tr>\n",
       "      <th>9</th>\n",
       "      <td>8</td>\n",
       "      <td>391</td>\n",
       "    </tr>\n",
       "    <tr>\n",
       "      <th>10</th>\n",
       "      <td>9</td>\n",
       "      <td>341</td>\n",
       "    </tr>\n",
       "    <tr>\n",
       "      <th>11</th>\n",
       "      <td>10</td>\n",
       "      <td>337</td>\n",
       "    </tr>\n",
       "  </tbody>\n",
       "</table>\n",
       "</div>"
      ],
      "text/plain": [
       "    Topic  Count\n",
       "0      -1  18253\n",
       "1       0   1818\n",
       "2       1   1444\n",
       "3       2    818\n",
       "4       3    700\n",
       "5       4    658\n",
       "6       5    615\n",
       "7       6    446\n",
       "8       7    419\n",
       "9       8    391\n",
       "10      9    341\n",
       "11     10    337"
      ]
     },
     "execution_count": 169,
     "metadata": {},
     "output_type": "execute_result"
    }
   ],
   "source": [
    "model_q.get_topic_freq().head(12)"
   ]
  },
  {
   "cell_type": "code",
   "execution_count": 173,
   "metadata": {},
   "outputs": [
    {
     "data": {
      "text/plain": [
       "[('teams', 0.009285969395658147),\n",
       " ('teamwork', 0.006908982039749957),\n",
       " ('teammates', 0.006539109372730284),\n",
       " ('members', 0.0057254947521658),\n",
       " ('supportive', 0.003113777858288179),\n",
       " ('together', 0.002222687665519621),\n",
       " ('collaboration', 0.002182865214101358),\n",
       " ('collaborative', 0.002020561557239131),\n",
       " ('communication', 0.0017262309716572337),\n",
       " ('organization', 0.0013406736730520942)]"
      ]
     },
     "execution_count": 173,
     "metadata": {},
     "output_type": "execute_result"
    }
   ],
   "source": [
    "model_q4.get_topic(0)"
   ]
  },
  {
   "cell_type": "code",
   "execution_count": 174,
   "metadata": {},
   "outputs": [
    {
     "data": {
      "text/plain": [
       "[('retail', 0.0055287126402692194),\n",
       " ('apple', 0.0050285072364219556),\n",
       " ('store', 0.004055329150983688),\n",
       " ('customers', 0.003056000920200799),\n",
       " ('apples', 0.003023113050699369),\n",
       " ('mac', 0.002281074362938286),\n",
       " ('customer', 0.002235303159672756),\n",
       " ('stores', 0.0017018314489813126),\n",
       " ('product', 0.0014642702672723212),\n",
       " ('purchase', 0.0014265749842024532)]"
      ]
     },
     "execution_count": 174,
     "metadata": {},
     "output_type": "execute_result"
    }
   ],
   "source": [
    "model_q4.get_topic(1)"
   ]
  },
  {
   "cell_type": "code",
   "execution_count": 175,
   "metadata": {},
   "outputs": [
    {
     "data": {
      "text/plain": [
       "[('intel', 0.01977853735521796),\n",
       " ('intels', 0.003941171562548571),\n",
       " ('semiconductor', 0.0030601171919890187),\n",
       " ('manufacturing', 0.002184528961254997),\n",
       " ('design', 0.001891408965689132),\n",
       " ('interns', 0.001737916158510523),\n",
       " ('hardware', 0.001550046705927128),\n",
       " ('processors', 0.001470895395902113),\n",
       " ('intern', 0.0014699974022451393),\n",
       " ('companies', 0.0014280995720255655)]"
      ]
     },
     "execution_count": 175,
     "metadata": {},
     "output_type": "execute_result"
    }
   ],
   "source": [
    "model_q4.get_topic(2)"
   ]
  },
  {
   "cell_type": "code",
   "execution_count": 176,
   "metadata": {},
   "outputs": [
    {
     "data": {
      "text/plain": [
       "[('google', 0.019566776429040644),\n",
       " ('googlers', 0.003212859100114919),\n",
       " ('googles', 0.0027752005763949533),\n",
       " ('engineers', 0.002030626637450114),\n",
       " ('engineer', 0.001922840455108964),\n",
       " ('classes', 0.001502223761552408),\n",
       " ('software', 0.0014894228584216831),\n",
       " ('infrastructure', 0.0014790208502524593),\n",
       " ('offices', 0.0014070579210013138),\n",
       " ('billions', 0.0013748053752391696)]"
      ]
     },
     "execution_count": 176,
     "metadata": {},
     "output_type": "execute_result"
    }
   ],
   "source": [
    "model_q4.get_topic(3)"
   ]
  },
  {
   "cell_type": "code",
   "execution_count": 177,
   "metadata": {},
   "outputs": [
    {
     "data": {
      "text/plain": [
       "[('pwc', 0.02300238576520861),\n",
       " ('firm', 0.003749707569628594),\n",
       " ('clients', 0.002434451245857176),\n",
       " ('pwcs', 0.002310757630090105),\n",
       " ('firms', 0.002191655737547747),\n",
       " ('staff', 0.002172940403637233),\n",
       " ('consulting', 0.0018559670557827194),\n",
       " ('associates', 0.0018402734870909593),\n",
       " ('associate', 0.001724183042202764),\n",
       " ('professionals', 0.0015212208306182482)]"
      ]
     },
     "execution_count": 177,
     "metadata": {},
     "output_type": "execute_result"
    }
   ],
   "source": [
    "model_q4.get_topic(4)"
   ]
  },
  {
   "cell_type": "code",
   "execution_count": 178,
   "metadata": {},
   "outputs": [
    {
     "data": {
      "text/plain": [
       "[('resume', 0.030797222424256646),\n",
       " ('builder', 0.017843220270225578),\n",
       " ('brand', 0.00544832671589848),\n",
       " ('build', 0.003125203982574783),\n",
       " ('prestige', 0.0022894370609148913),\n",
       " ('firm', 0.002124362474434514),\n",
       " ('cv', 0.0020765560174417805),\n",
       " ('boost', 0.002028052233157543),\n",
       " ('reputation', 0.0019464664135308177),\n",
       " ('gain', 0.0018200348893328503)]"
      ]
     },
     "execution_count": 178,
     "metadata": {},
     "output_type": "execute_result"
    }
   ],
   "source": [
    "model_q4.get_topic(5)"
   ]
  },
  {
   "cell_type": "code",
   "execution_count": 179,
   "metadata": {},
   "outputs": [
    {
     "data": {
      "text/plain": [
       "[('intern', 0.029818274707778127),\n",
       " ('interns', 0.028928359669751418),\n",
       " ('internship', 0.02238262869132686),\n",
       " ('events', 0.0064794399277540785),\n",
       " ('program', 0.004112689122397616),\n",
       " ('activities', 0.003696172828235516),\n",
       " ('internships', 0.00367067226178283),\n",
       " ('networking', 0.0023469424644694177),\n",
       " ('network', 0.0020103581599160646),\n",
       " ('seniors', 0.0019411041127697386)]"
      ]
     },
     "execution_count": 179,
     "metadata": {},
     "output_type": "execute_result"
    }
   ],
   "source": [
    "model_q4.get_topic(6)"
   ]
  },
  {
   "cell_type": "code",
   "execution_count": 180,
   "metadata": {},
   "outputs": [
    {
     "data": {
      "text/plain": [
       "[('leadership', 0.020059150363509633),\n",
       " ('discipline', 0.0045704014788141316),\n",
       " ('leaders', 0.004288337770913942),\n",
       " ('skills', 0.004251053596064445),\n",
       " ('responsibility', 0.004152038105338357),\n",
       " ('leader', 0.003466872285005171),\n",
       " ('courage', 0.00331182481718539),\n",
       " ('lead', 0.0032467729461190713),\n",
       " ('autonomy', 0.0029306115955069815),\n",
       " ('commitment', 0.0025865735892904094)]"
      ]
     },
     "execution_count": 180,
     "metadata": {},
     "output_type": "execute_result"
    }
   ],
   "source": [
    "model_q4.get_topic(7)"
   ]
  },
  {
   "cell_type": "code",
   "execution_count": 181,
   "metadata": {},
   "outputs": [
    {
     "data": {
      "text/plain": [
       "[('travel', 0.04955958431663916),\n",
       " ('traveling', 0.013571527701678772),\n",
       " ('international', 0.00598042412214898),\n",
       " ('travelling', 0.005917267419010882),\n",
       " ('sharing', 0.004970813290703643),\n",
       " ('shuttle', 0.0036391733933467786),\n",
       " ('camaraderie', 0.0031763186961513766),\n",
       " ('shifts', 0.0031636991279523127),\n",
       " ('swaps', 0.0030753057100042286),\n",
       " ('retirement', 0.0028029976948730656)]"
      ]
     },
     "execution_count": 181,
     "metadata": {},
     "output_type": "execute_result"
    }
   ],
   "source": [
    "model_q4.get_topic(8)"
   ]
  },
  {
   "cell_type": "code",
   "execution_count": 182,
   "metadata": {},
   "outputs": [
    {
     "data": {
      "text/plain": [
       "[('amazon', 0.031163360883757093),\n",
       " ('aws', 0.004223710785064203),\n",
       " ('amazons', 0.0033127872188482726),\n",
       " ('customer', 0.002249597400501439),\n",
       " ('customers', 0.0019212837275009627),\n",
       " ('alexa', 0.0018486302097928508),\n",
       " ('amazonian', 0.0018486302097928508),\n",
       " ('decisions', 0.0017892221218975),\n",
       " ('switch', 0.0016999670815417683),\n",
       " ('amazonians', 0.0016565122369884707)]"
      ]
     },
     "execution_count": 182,
     "metadata": {},
     "output_type": "execute_result"
    }
   ],
   "source": [
    "model_q4.get_topic(9)"
   ]
  },
  {
   "cell_type": "code",
   "execution_count": 183,
   "metadata": {},
   "outputs": [
    {
     "data": {
      "text/plain": [
       "[('brand', 0.052679149933889675),\n",
       " ('name', 0.0307886787408369),\n",
       " ('reputation', 0.018386692930946257),\n",
       " ('brands', 0.01233404401393186),\n",
       " ('recognizable', 0.0055220920189731045),\n",
       " ('prestigious', 0.005039650514021937),\n",
       " ('prestige', 0.003659862304190039),\n",
       " ('marketing', 0.003116852216839315),\n",
       " ('wellknown', 0.00289929239741518),\n",
       " ('fortune', 0.0026442021389073253)]"
      ]
     },
     "execution_count": 183,
     "metadata": {},
     "output_type": "execute_result"
    }
   ],
   "source": [
    "model_q4.get_topic(10)"
   ]
  },
  {
   "cell_type": "code",
   "execution_count": null,
   "metadata": {},
   "outputs": [],
   "source": []
  },
  {
   "cell_type": "code",
   "execution_count": null,
   "metadata": {},
   "outputs": [],
   "source": []
  },
  {
   "cell_type": "markdown",
   "metadata": {},
   "source": [
    "# Low Stress"
   ]
  },
  {
   "cell_type": "code",
   "execution_count": 124,
   "metadata": {},
   "outputs": [
    {
     "name": "stdout",
     "output_type": "stream",
     "text": [
      "we parse 51729 out of 99654 docs\n",
      "Q1 51729\n"
     ]
    }
   ],
   "source": [
    "### this cell takes some time to run\n",
    "Q = 'Q1'\n",
    "# subset the data and threshold on f(Q)'s 50th percentile'\n",
    "df_q_50thpct = df[ (df['Q'] == Q) & (df['f(Q)'] > Q_threshold[Q]) ]\n",
    "print ('we parse {} out of {} docs'.format(len(df_q_50thpct), len(df_q)) )\n",
    "\n",
    "# create a list of documents, i.e., pros\n",
    "docs_q = list(df_q_50thpct['pros'])\n",
    "print (Q, len(docs_q))\n",
    "\n",
    "# if you want to sample, for testing the code uncomment the second part\n",
    "docs_q_sample = docs_q#[:1000]\n",
    "\n",
    "# run model\n",
    "model_q1 = BERTopic()\n",
    "topics, probabilities = model_q1.fit_transform(docs_q_sample)"
   ]
  },
  {
   "cell_type": "code",
   "execution_count": 142,
   "metadata": {},
   "outputs": [
    {
     "data": {
      "text/html": [
       "<div>\n",
       "<style scoped>\n",
       "    .dataframe tbody tr th:only-of-type {\n",
       "        vertical-align: middle;\n",
       "    }\n",
       "\n",
       "    .dataframe tbody tr th {\n",
       "        vertical-align: top;\n",
       "    }\n",
       "\n",
       "    .dataframe thead th {\n",
       "        text-align: right;\n",
       "    }\n",
       "</style>\n",
       "<table border=\"1\" class=\"dataframe\">\n",
       "  <thead>\n",
       "    <tr style=\"text-align: right;\">\n",
       "      <th></th>\n",
       "      <th>Topic</th>\n",
       "      <th>Count</th>\n",
       "    </tr>\n",
       "  </thead>\n",
       "  <tbody>\n",
       "    <tr>\n",
       "      <th>0</th>\n",
       "      <td>-1</td>\n",
       "      <td>19275</td>\n",
       "    </tr>\n",
       "    <tr>\n",
       "      <th>1</th>\n",
       "      <td>0</td>\n",
       "      <td>1134</td>\n",
       "    </tr>\n",
       "    <tr>\n",
       "      <th>2</th>\n",
       "      <td>1</td>\n",
       "      <td>785</td>\n",
       "    </tr>\n",
       "    <tr>\n",
       "      <th>3</th>\n",
       "      <td>2</td>\n",
       "      <td>648</td>\n",
       "    </tr>\n",
       "    <tr>\n",
       "      <th>4</th>\n",
       "      <td>3</td>\n",
       "      <td>599</td>\n",
       "    </tr>\n",
       "    <tr>\n",
       "      <th>5</th>\n",
       "      <td>4</td>\n",
       "      <td>569</td>\n",
       "    </tr>\n",
       "    <tr>\n",
       "      <th>6</th>\n",
       "      <td>5</td>\n",
       "      <td>494</td>\n",
       "    </tr>\n",
       "    <tr>\n",
       "      <th>7</th>\n",
       "      <td>6</td>\n",
       "      <td>467</td>\n",
       "    </tr>\n",
       "    <tr>\n",
       "      <th>8</th>\n",
       "      <td>7</td>\n",
       "      <td>459</td>\n",
       "    </tr>\n",
       "    <tr>\n",
       "      <th>9</th>\n",
       "      <td>8</td>\n",
       "      <td>410</td>\n",
       "    </tr>\n",
       "    <tr>\n",
       "      <th>10</th>\n",
       "      <td>9</td>\n",
       "      <td>382</td>\n",
       "    </tr>\n",
       "    <tr>\n",
       "      <th>11</th>\n",
       "      <td>10</td>\n",
       "      <td>361</td>\n",
       "    </tr>\n",
       "  </tbody>\n",
       "</table>\n",
       "</div>"
      ],
      "text/plain": [
       "    Topic  Count\n",
       "0      -1  19275\n",
       "1       0   1134\n",
       "2       1    785\n",
       "3       2    648\n",
       "4       3    599\n",
       "5       4    569\n",
       "6       5    494\n",
       "7       6    467\n",
       "8       7    459\n",
       "9       8    410\n",
       "10      9    382\n",
       "11     10    361"
      ]
     },
     "execution_count": 142,
     "metadata": {},
     "output_type": "execute_result"
    }
   ],
   "source": [
    "model_q1.get_topic_freq().head(12)"
   ]
  },
  {
   "cell_type": "code",
   "execution_count": 129,
   "metadata": {},
   "outputs": [
    {
     "data": {
      "text/plain": [
       "[('cisco', 0.00784834800603574),\n",
       " ('ciscos', 0.004269674980507606),\n",
       " ('networking', 0.0018547677812941934),\n",
       " ('internship', 0.001783004350834507),\n",
       " ('interns', 0.0016593086417146228),\n",
       " ('network', 0.0014506928957066798),\n",
       " ('csap', 0.001441484793769491),\n",
       " ('companies', 0.0013070458780811245),\n",
       " ('san', 0.0012450167827327552),\n",
       " ('collaboration', 0.00123869054352058)]"
      ]
     },
     "execution_count": 129,
     "metadata": {},
     "output_type": "execute_result"
    }
   ],
   "source": [
    "model_q1.get_topic(0)"
   ]
  },
  {
   "cell_type": "code",
   "execution_count": 130,
   "metadata": {},
   "outputs": [
    {
     "data": {
      "text/plain": [
       "[('schedule', 0.015042507058600305),\n",
       " ('scheduling', 0.013331517177481779),\n",
       " ('schedules', 0.010771684328462563),\n",
       " ('timings', 0.0035593985470634827),\n",
       " ('hour', 0.0024507178530629313),\n",
       " ('flexibility', 0.002082992134006508),\n",
       " ('pace', 0.001812322397933753),\n",
       " ('office', 0.0017539289304002784),\n",
       " ('autonomy', 0.001680595317147727),\n",
       " ('timing', 0.001606148287437726)]"
      ]
     },
     "execution_count": 130,
     "metadata": {},
     "output_type": "execute_result"
    }
   ],
   "source": [
    "model_q1.get_topic(1)"
   ]
  },
  {
   "cell_type": "code",
   "execution_count": 131,
   "metadata": {},
   "outputs": [
    {
     "data": {
      "text/plain": [
       "[('matching', 0.015205711034616893),\n",
       " ('401k', 0.011056592820867158),\n",
       " ('401', 0.010026474862811227),\n",
       " ('pension', 0.008040124530630317),\n",
       " ('insurance', 0.00592924503161463),\n",
       " ('contribution', 0.0046656632132895505),\n",
       " ('bonus', 0.004213625216008308),\n",
       " ('hsa', 0.0035041748948571568),\n",
       " ('retirement', 0.002818869704250918),\n",
       " ('bonuses', 0.0024769661695396867)]"
      ]
     },
     "execution_count": 131,
     "metadata": {},
     "output_type": "execute_result"
    }
   ],
   "source": [
    "model_q1.get_topic(2)"
   ]
  },
  {
   "cell_type": "code",
   "execution_count": 132,
   "metadata": {},
   "outputs": [
    {
     "data": {
      "text/plain": [
       "[('home', 0.023578242990698405),\n",
       " ('option', 0.008532142992406058),\n",
       " ('options', 0.004038700243221807),\n",
       " ('house', 0.002889946373656053),\n",
       " ('fridays', 0.0025997570686267057),\n",
       " ('workfromhome', 0.0024297782735741356),\n",
       " ('office', 0.002412517507426731),\n",
       " ('schedule', 0.002279034170538198),\n",
       " ('arrangements', 0.0016466302186705774),\n",
       " ('workhome', 0.0015857367554658315)]"
      ]
     },
     "execution_count": 132,
     "metadata": {},
     "output_type": "execute_result"
    }
   ],
   "source": [
    "model_q1.get_topic(3)"
   ]
  },
  {
   "cell_type": "code",
   "execution_count": 133,
   "metadata": {},
   "outputs": [
    {
     "data": {
      "text/plain": [
       "[('co', 0.027850363522199665),\n",
       " ('workers', 0.021827276678693615),\n",
       " ('coworker', 0.004477002395359471),\n",
       " ('cooperative', 0.003503033651879364),\n",
       " ('crew', 0.0032617761099669735),\n",
       " ('supervisors', 0.0027806241024254884),\n",
       " ('members', 0.0021561717152983766),\n",
       " ('supportive', 0.0019099944158111877),\n",
       " ('coop', 0.0018262744334120817),\n",
       " ('group', 0.0016948287902355881)]"
      ]
     },
     "execution_count": 133,
     "metadata": {},
     "output_type": "execute_result"
    }
   ],
   "source": [
    "model_q1.get_topic(4)"
   ]
  },
  {
   "cell_type": "code",
   "execution_count": 134,
   "metadata": {},
   "outputs": [
    {
     "data": {
      "text/plain": [
       "[('disney', 0.04512589497243378),\n",
       " ('disneyland', 0.01353827316309417),\n",
       " ('tickets', 0.006546855629476015),\n",
       " ('admission', 0.0064086391952038165),\n",
       " ('merchandise', 0.005686452742337674),\n",
       " ('discounts', 0.004666123909424087),\n",
       " ('guests', 0.004138883380772696),\n",
       " ('disneys', 0.003382782672412886),\n",
       " ('marvel', 0.0032176282820896513),\n",
       " ('entertainment', 0.0032039881593253637)]"
      ]
     },
     "execution_count": 134,
     "metadata": {},
     "output_type": "execute_result"
    }
   ],
   "source": [
    "model_q1.get_topic(5)"
   ]
  },
  {
   "cell_type": "code",
   "execution_count": 135,
   "metadata": {},
   "outputs": [
    {
     "data": {
      "text/plain": [
       "[('leadership', 0.018323560476192397),\n",
       " ('executive', 0.007456757398180771),\n",
       " ('leaders', 0.005998872910942752),\n",
       " ('strategy', 0.0036499683297100704),\n",
       " ('transparency', 0.0033053094202233502),\n",
       " ('leader', 0.0032794328560547966),\n",
       " ('visionary', 0.002662859688512153),\n",
       " ('focus', 0.0026576321939977116),\n",
       " ('feedback', 0.002649664014172212),\n",
       " ('focused', 0.002326790463833261)]"
      ]
     },
     "execution_count": 135,
     "metadata": {},
     "output_type": "execute_result"
    }
   ],
   "source": [
    "model_q1.get_topic(6)"
   ]
  },
  {
   "cell_type": "code",
   "execution_count": 136,
   "metadata": {},
   "outputs": [
    {
     "data": {
      "text/plain": [
       "[('projects', 0.030034798692102908),\n",
       " ('project', 0.010905577103324281),\n",
       " ('creative', 0.009382227710448636),\n",
       " ('developers', 0.006447579955148351),\n",
       " ('creativity', 0.004799119770309648),\n",
       " ('ideas', 0.004523656897998572),\n",
       " ('initiatives', 0.002729371427743467),\n",
       " ('creatives', 0.00265181096591108),\n",
       " ('artists', 0.0025900194839006577),\n",
       " ('games', 0.002525346110092887)]"
      ]
     },
     "execution_count": 136,
     "metadata": {},
     "output_type": "execute_result"
    }
   ],
   "source": [
    "model_q1.get_topic(7)"
   ]
  },
  {
   "cell_type": "code",
   "execution_count": 137,
   "metadata": {},
   "outputs": [
    {
     "data": {
      "text/plain": [
       "[('program', 0.007002973900820274),\n",
       " ('certification', 0.005857438800980337),\n",
       " ('certifications', 0.005298306610913587),\n",
       " ('programs', 0.004983563952271328),\n",
       " ('trainings', 0.004403474710542201),\n",
       " ('onboarding', 0.0036226843086083495),\n",
       " ('boarding', 0.0034044362293394292),\n",
       " ('teach', 0.0033026060329066505),\n",
       " ('class', 0.002848646894877814),\n",
       " ('exams', 0.0027573532826359244)]"
      ]
     },
     "execution_count": 137,
     "metadata": {},
     "output_type": "execute_result"
    }
   ],
   "source": [
    "model_q1.get_topic(8)"
   ]
  },
  {
   "cell_type": "code",
   "execution_count": 138,
   "metadata": {},
   "outputs": [
    {
     "data": {
      "text/plain": [
       "[('benefitsgreat', 0.0033950274099006357),\n",
       " ('fair', 0.0028564549818412745),\n",
       " ('friendlygood', 0.0026858947945496963),\n",
       " ('immigrants', 0.0025299466760465563),\n",
       " ('labor', 0.0023942960317921125),\n",
       " ('pays', 0.0022198857779579116),\n",
       " ('money', 0.002141174899538754),\n",
       " ('jobs', 0.001981425228219858),\n",
       " ('wage', 0.001968061410748001),\n",
       " ('paying', 0.001865666763403177)]"
      ]
     },
     "execution_count": 138,
     "metadata": {},
     "output_type": "execute_result"
    }
   ],
   "source": [
    "model_q1.get_topic(9)"
   ]
  },
  {
   "cell_type": "code",
   "execution_count": 139,
   "metadata": {},
   "outputs": [
    {
     "data": {
      "text/plain": [
       "[('balancesalaryemployee', 0.0076494936081878155),\n",
       " ('policiesworklife', 0.006733082582564189),\n",
       " ('workfamily', 0.003898950639914279),\n",
       " ('salaries', 0.0034733061101958986),\n",
       " ('compensation', 0.0032076502565149545),\n",
       " ('payment', 0.003080768487156957),\n",
       " ('balanced', 0.0025723940146338575),\n",
       " ('pension', 0.0025511856690192754),\n",
       " ('compared', 0.00245657272182807),\n",
       " ('cost', 0.002207457552135518)]"
      ]
     },
     "execution_count": 139,
     "metadata": {},
     "output_type": "execute_result"
    }
   ],
   "source": [
    "model_q1.get_topic(10)"
   ]
  },
  {
   "cell_type": "code",
   "execution_count": null,
   "metadata": {},
   "outputs": [],
   "source": []
  },
  {
   "cell_type": "code",
   "execution_count": null,
   "metadata": {},
   "outputs": [],
   "source": []
  },
  {
   "cell_type": "markdown",
   "metadata": {},
   "source": [
    "# Negative Stress"
   ]
  },
  {
   "cell_type": "code",
   "execution_count": 125,
   "metadata": {},
   "outputs": [
    {
     "name": "stdout",
     "output_type": "stream",
     "text": [
      "we parse 75525 out of 99654 docs\n",
      "Q3 75525\n"
     ]
    }
   ],
   "source": [
    "### this cell takes some time to run\n",
    "Q = 'Q3'\n",
    "# subset the data and threshold on f(Q)'s 50th percentile'\n",
    "df_q_50thpct = df[ (df['Q'] == Q) & (df['f(Q)'] > Q_threshold[Q]) ]\n",
    "print ('we parse {} out of {} docs'.format(len(df_q_50thpct), len(df_q)) )\n",
    "\n",
    "# create a list of documents, i.e., pros\n",
    "docs_q = list(df_q_50thpct['pros'])\n",
    "print (Q, len(docs_q))\n",
    "\n",
    "# if you want to sample, for testing the code uncomment the second part\n",
    "docs_q_sample = docs_q#[:1000]\n",
    "\n",
    "# run model\n",
    "model_q3 = BERTopic()\n",
    "topics, probabilities = model_q3.fit_transform(docs_q_sample)"
   ]
  },
  {
   "cell_type": "code",
   "execution_count": 143,
   "metadata": {},
   "outputs": [
    {
     "data": {
      "text/html": [
       "<div>\n",
       "<style scoped>\n",
       "    .dataframe tbody tr th:only-of-type {\n",
       "        vertical-align: middle;\n",
       "    }\n",
       "\n",
       "    .dataframe tbody tr th {\n",
       "        vertical-align: top;\n",
       "    }\n",
       "\n",
       "    .dataframe thead th {\n",
       "        text-align: right;\n",
       "    }\n",
       "</style>\n",
       "<table border=\"1\" class=\"dataframe\">\n",
       "  <thead>\n",
       "    <tr style=\"text-align: right;\">\n",
       "      <th></th>\n",
       "      <th>Topic</th>\n",
       "      <th>Count</th>\n",
       "    </tr>\n",
       "  </thead>\n",
       "  <tbody>\n",
       "    <tr>\n",
       "      <th>0</th>\n",
       "      <td>-1</td>\n",
       "      <td>27482</td>\n",
       "    </tr>\n",
       "    <tr>\n",
       "      <th>1</th>\n",
       "      <td>0</td>\n",
       "      <td>2337</td>\n",
       "    </tr>\n",
       "    <tr>\n",
       "      <th>2</th>\n",
       "      <td>1</td>\n",
       "      <td>1839</td>\n",
       "    </tr>\n",
       "    <tr>\n",
       "      <th>3</th>\n",
       "      <td>2</td>\n",
       "      <td>1559</td>\n",
       "    </tr>\n",
       "    <tr>\n",
       "      <th>4</th>\n",
       "      <td>3</td>\n",
       "      <td>1262</td>\n",
       "    </tr>\n",
       "    <tr>\n",
       "      <th>5</th>\n",
       "      <td>4</td>\n",
       "      <td>1205</td>\n",
       "    </tr>\n",
       "    <tr>\n",
       "      <th>6</th>\n",
       "      <td>5</td>\n",
       "      <td>709</td>\n",
       "    </tr>\n",
       "    <tr>\n",
       "      <th>7</th>\n",
       "      <td>6</td>\n",
       "      <td>691</td>\n",
       "    </tr>\n",
       "    <tr>\n",
       "      <th>8</th>\n",
       "      <td>7</td>\n",
       "      <td>685</td>\n",
       "    </tr>\n",
       "    <tr>\n",
       "      <th>9</th>\n",
       "      <td>8</td>\n",
       "      <td>642</td>\n",
       "    </tr>\n",
       "    <tr>\n",
       "      <th>10</th>\n",
       "      <td>9</td>\n",
       "      <td>577</td>\n",
       "    </tr>\n",
       "    <tr>\n",
       "      <th>11</th>\n",
       "      <td>10</td>\n",
       "      <td>536</td>\n",
       "    </tr>\n",
       "  </tbody>\n",
       "</table>\n",
       "</div>"
      ],
      "text/plain": [
       "    Topic  Count\n",
       "0      -1  27482\n",
       "1       0   2337\n",
       "2       1   1839\n",
       "3       2   1559\n",
       "4       3   1262\n",
       "5       4   1205\n",
       "6       5    709\n",
       "7       6    691\n",
       "8       7    685\n",
       "9       8    642\n",
       "10      9    577\n",
       "11     10    536"
      ]
     },
     "execution_count": 143,
     "metadata": {},
     "output_type": "execute_result"
    }
   ],
   "source": [
    "model_q3.get_topic_freq().head(12)"
   ]
  },
  {
   "cell_type": "code",
   "execution_count": 145,
   "metadata": {},
   "outputs": [
    {
     "data": {
      "text/plain": [
       "[('discounts', 0.00971573517327506),\n",
       " ('items', 0.006259842077076702),\n",
       " ('merchandise', 0.00563092666634565),\n",
       " ('sale', 0.004045239103935197),\n",
       " ('discounted', 0.0031810157566653187),\n",
       " ('coupons', 0.0022752724669694658),\n",
       " ('purchases', 0.0018061411357839262),\n",
       " ('stores', 0.0016365941034517458),\n",
       " ('rewards', 0.0015935839015415176),\n",
       " ('prices', 0.0015246570450146762)]"
      ]
     },
     "execution_count": 145,
     "metadata": {},
     "output_type": "execute_result"
    }
   ],
   "source": [
    "model_q3.get_topic(0)"
   ]
  },
  {
   "cell_type": "code",
   "execution_count": 146,
   "metadata": {},
   "outputs": [
    {
     "data": {
      "text/plain": [
       "[('teams', 0.011312752263596383),\n",
       " ('teammates', 0.008681996099323564),\n",
       " ('teamwork', 0.00840156491596838),\n",
       " ('members', 0.007969362692753317),\n",
       " ('players', 0.0031443223602461517),\n",
       " ('collaboration', 0.0026284731235511854),\n",
       " ('collaborative', 0.001933924741063505),\n",
       " ('goals', 0.0016799067440697514),\n",
       " ('leaders', 0.0015393698498063458),\n",
       " ('goal', 0.0013368742838138783)]"
      ]
     },
     "execution_count": 146,
     "metadata": {},
     "output_type": "execute_result"
    }
   ],
   "source": [
    "model_q3.get_topic(1)"
   ]
  },
  {
   "cell_type": "code",
   "execution_count": 147,
   "metadata": {},
   "outputs": [
    {
     "data": {
      "text/plain": [
       "[('animals', 0.02096977237314214),\n",
       " ('pets', 0.018912082562480587),\n",
       " ('pet', 0.016298352609105223),\n",
       " ('dogs', 0.015251626140284469),\n",
       " ('petsmart', 0.011964049087782853),\n",
       " ('animal', 0.00702643405744302),\n",
       " ('cats', 0.004464110958210537),\n",
       " ('grooming', 0.004396207817969164),\n",
       " ('puppies', 0.003723647912540435),\n",
       " ('groomer', 0.0029362782454954387)]"
      ]
     },
     "execution_count": 147,
     "metadata": {},
     "output_type": "execute_result"
    }
   ],
   "source": [
    "model_q3.get_topic(2)"
   ]
  },
  {
   "cell_type": "code",
   "execution_count": 148,
   "metadata": {},
   "outputs": [
    {
     "data": {
      "text/plain": [
       "[('food', 0.012524775627841246),\n",
       " ('meals', 0.011499193158746172),\n",
       " ('meal', 0.010872455544079188),\n",
       " ('bread', 0.008388350387400717),\n",
       " ('bakery', 0.007338801078724801),\n",
       " ('pastries', 0.006999536152698145),\n",
       " ('baked', 0.005942577018802178),\n",
       " ('eat', 0.004899522535750684),\n",
       " ('baker', 0.00292461537124577),\n",
       " ('foods', 0.002589982576851336)]"
      ]
     },
     "execution_count": 148,
     "metadata": {},
     "output_type": "execute_result"
    }
   ],
   "source": [
    "model_q3.get_topic(3)"
   ]
  },
  {
   "cell_type": "code",
   "execution_count": 149,
   "metadata": {},
   "outputs": [
    {
     "data": {
      "text/plain": [
       "[('pharmacy', 0.022163933671586325),\n",
       " ('pharmacist', 0.014579888953965942),\n",
       " ('pharmacists', 0.012694453575072689),\n",
       " ('technician', 0.007354028277973143),\n",
       " ('pharmacies', 0.005688081413262114),\n",
       " ('technicians', 0.004432085144664297),\n",
       " ('techs', 0.0035030305786594705),\n",
       " ('pharmaceutical', 0.0034321244891001345),\n",
       " ('pharm', 0.0028605179690764575),\n",
       " ('pharmaceuticals', 0.001853510569724902)]"
      ]
     },
     "execution_count": 149,
     "metadata": {},
     "output_type": "execute_result"
    }
   ],
   "source": [
    "model_q3.get_topic(4)"
   ]
  },
  {
   "cell_type": "code",
   "execution_count": 150,
   "metadata": {},
   "outputs": [
    {
     "data": {
      "text/plain": [
       "[('program', 0.009493883735400058),\n",
       " ('trainers', 0.007201309331524567),\n",
       " ('programs', 0.0035716862214221763),\n",
       " ('hires', 0.003155400538951629),\n",
       " ('trained', 0.0030140530709882344),\n",
       " ('tools', 0.0027796591707543606),\n",
       " ('travel', 0.0024680650415115682),\n",
       " ('trainer', 0.0024569172235479448),\n",
       " ('technical', 0.002294836755601185),\n",
       " ('equipment', 0.001859270800499268)]"
      ]
     },
     "execution_count": 150,
     "metadata": {},
     "output_type": "execute_result"
    }
   ],
   "source": [
    "model_q3.get_topic(5)"
   ]
  },
  {
   "cell_type": "code",
   "execution_count": 151,
   "metadata": {},
   "outputs": [
    {
     "data": {
      "text/plain": [
       "[('co', 0.02548030598874358),\n",
       " ('workers', 0.01810088788123796),\n",
       " ('enjoyed', 0.0029751533139123175),\n",
       " ('mangers', 0.0024609453882213257),\n",
       " ('trainers', 0.0024458458924474457),\n",
       " ('cool', 0.0024449371542168124),\n",
       " ('together', 0.0020978584572460776),\n",
       " ('welcoming', 0.001952201323482752),\n",
       " ('boat', 0.0018272781535276492),\n",
       " ('pleasant', 0.001576453670805583)]"
      ]
     },
     "execution_count": 151,
     "metadata": {},
     "output_type": "execute_result"
    }
   ],
   "source": [
    "model_q3.get_topic(6)"
   ]
  },
  {
   "cell_type": "code",
   "execution_count": 152,
   "metadata": {},
   "outputs": [
    {
     "data": {
      "text/plain": [
       "[('match', 0.025045420835128923),\n",
       " ('401k', 0.01616527341669486),\n",
       " ('matching', 0.014445523195451688),\n",
       " ('401', 0.010828440128289514),\n",
       " ('pension', 0.00454181210202313),\n",
       " ('matched', 0.0038422280044243346),\n",
       " ('hsa', 0.003170220344139987),\n",
       " ('reimbursement', 0.002247798978891909),\n",
       " ('savings', 0.002219154240897991),\n",
       " ('premiums', 0.0019156225138322698)]"
      ]
     },
     "execution_count": 152,
     "metadata": {},
     "output_type": "execute_result"
    }
   ],
   "source": [
    "model_q3.get_topic(7)"
   ]
  },
  {
   "cell_type": "code",
   "execution_count": 153,
   "metadata": {},
   "outputs": [
    {
     "data": {
      "text/plain": [
       "[('walgreens', 0.03464518871674686),\n",
       " ('walgreen', 0.005523609383323617),\n",
       " ('brand', 0.0027220209403872905),\n",
       " ('pharmacy', 0.0026323124126493534),\n",
       " ('stores', 0.0024742674408911),\n",
       " ('profit', 0.0023166694185035516),\n",
       " ('pharmacists', 0.0021861796364658274),\n",
       " ('walmart', 0.0013436316778044106),\n",
       " ('cashier', 0.001321607164808559),\n",
       " ('brands', 0.001273165613350766)]"
      ]
     },
     "execution_count": 153,
     "metadata": {},
     "output_type": "execute_result"
    }
   ],
   "source": [
    "model_q3.get_topic(8)"
   ]
  },
  {
   "cell_type": "code",
   "execution_count": 154,
   "metadata": {},
   "outputs": [
    {
     "data": {
      "text/plain": [
       "[('horrible', 0.006956896639319857),\n",
       " ('terrible', 0.0038854293387525153),\n",
       " ('joke', 0.0038464590951396674),\n",
       " ('sucks', 0.003694370066588327),\n",
       " ('lie', 0.0033271976036649033),\n",
       " ('awful', 0.0029156504688842818),\n",
       " ('suck', 0.00279112506339908),\n",
       " ('doesnt', 0.0025745587942535755),\n",
       " ('dont', 0.0025231735859186995),\n",
       " ('lies', 0.0024952244921394697)]"
      ]
     },
     "execution_count": 154,
     "metadata": {},
     "output_type": "execute_result"
    }
   ],
   "source": [
    "model_q3.get_topic(9)"
   ]
  },
  {
   "cell_type": "code",
   "execution_count": 155,
   "metadata": {},
   "outputs": [
    {
     "data": {
      "text/plain": [
       "[('overtime', 0.04935660788334475),\n",
       " ('mandatory', 0.006217036291689274),\n",
       " ('hourly', 0.003369420788402802),\n",
       " ('shift', 0.0027253408261739575),\n",
       " ('incentives', 0.0025582798184576993),\n",
       " ('extra', 0.0025070024403360675),\n",
       " ('steady', 0.002314626913365407),\n",
       " ('shifts', 0.0022146617001582436),\n",
       " ('hour', 0.0018849562773247926),\n",
       " ('wages', 0.0017992391371525122)]"
      ]
     },
     "execution_count": 155,
     "metadata": {},
     "output_type": "execute_result"
    }
   ],
   "source": [
    "model_q3.get_topic(10)"
   ]
  },
  {
   "cell_type": "code",
   "execution_count": null,
   "metadata": {},
   "outputs": [],
   "source": []
  },
  {
   "cell_type": "markdown",
   "metadata": {},
   "source": [
    "# Passive"
   ]
  },
  {
   "cell_type": "code",
   "execution_count": 127,
   "metadata": {},
   "outputs": [
    {
     "name": "stdout",
     "output_type": "stream",
     "text": [
      "we parse 38958 out of 99654 docs\n",
      "Q2 38958\n"
     ]
    }
   ],
   "source": [
    "### this cell takes some time to run\n",
    "Q = 'Q2'\n",
    "# subset the data and threshold on f(Q)'s 50th percentile'\n",
    "df_q_50thpct = df[ (df['Q'] == Q) & (df['f(Q)'] > Q_threshold[Q]) ]\n",
    "print ('we parse {} out of {} docs'.format(len(df_q_50thpct), len(df_q)) )\n",
    "\n",
    "# create a list of documents, i.e., pros\n",
    "docs_q = list(df_q_50thpct['pros'].astype(str))\n",
    "print (Q, len(docs_q))\n",
    "\n",
    "# if you want to sample, for testing the code uncomment the second part\n",
    "docs_q_sample = docs_q#[:1000]\n",
    "\n",
    "# run model\n",
    "model_q2 = BERTopic()\n",
    "topics, probabilities = model_q2.fit_transform(docs_q_sample)"
   ]
  },
  {
   "cell_type": "code",
   "execution_count": 157,
   "metadata": {},
   "outputs": [
    {
     "data": {
      "text/html": [
       "<div>\n",
       "<style scoped>\n",
       "    .dataframe tbody tr th:only-of-type {\n",
       "        vertical-align: middle;\n",
       "    }\n",
       "\n",
       "    .dataframe tbody tr th {\n",
       "        vertical-align: top;\n",
       "    }\n",
       "\n",
       "    .dataframe thead th {\n",
       "        text-align: right;\n",
       "    }\n",
       "</style>\n",
       "<table border=\"1\" class=\"dataframe\">\n",
       "  <thead>\n",
       "    <tr style=\"text-align: right;\">\n",
       "      <th></th>\n",
       "      <th>Topic</th>\n",
       "      <th>Count</th>\n",
       "    </tr>\n",
       "  </thead>\n",
       "  <tbody>\n",
       "    <tr>\n",
       "      <th>0</th>\n",
       "      <td>-1</td>\n",
       "      <td>13720</td>\n",
       "    </tr>\n",
       "    <tr>\n",
       "      <th>1</th>\n",
       "      <td>0</td>\n",
       "      <td>2129</td>\n",
       "    </tr>\n",
       "    <tr>\n",
       "      <th>2</th>\n",
       "      <td>1</td>\n",
       "      <td>1032</td>\n",
       "    </tr>\n",
       "    <tr>\n",
       "      <th>3</th>\n",
       "      <td>2</td>\n",
       "      <td>580</td>\n",
       "    </tr>\n",
       "    <tr>\n",
       "      <th>4</th>\n",
       "      <td>3</td>\n",
       "      <td>551</td>\n",
       "    </tr>\n",
       "    <tr>\n",
       "      <th>5</th>\n",
       "      <td>4</td>\n",
       "      <td>526</td>\n",
       "    </tr>\n",
       "    <tr>\n",
       "      <th>6</th>\n",
       "      <td>5</td>\n",
       "      <td>425</td>\n",
       "    </tr>\n",
       "    <tr>\n",
       "      <th>7</th>\n",
       "      <td>6</td>\n",
       "      <td>425</td>\n",
       "    </tr>\n",
       "    <tr>\n",
       "      <th>8</th>\n",
       "      <td>7</td>\n",
       "      <td>314</td>\n",
       "    </tr>\n",
       "    <tr>\n",
       "      <th>9</th>\n",
       "      <td>8</td>\n",
       "      <td>276</td>\n",
       "    </tr>\n",
       "    <tr>\n",
       "      <th>10</th>\n",
       "      <td>9</td>\n",
       "      <td>267</td>\n",
       "    </tr>\n",
       "    <tr>\n",
       "      <th>11</th>\n",
       "      <td>10</td>\n",
       "      <td>227</td>\n",
       "    </tr>\n",
       "  </tbody>\n",
       "</table>\n",
       "</div>"
      ],
      "text/plain": [
       "    Topic  Count\n",
       "0      -1  13720\n",
       "1       0   2129\n",
       "2       1   1032\n",
       "3       2    580\n",
       "4       3    551\n",
       "5       4    526\n",
       "6       5    425\n",
       "7       6    425\n",
       "8       7    314\n",
       "9       8    276\n",
       "10      9    267\n",
       "11     10    227"
      ]
     },
     "execution_count": 157,
     "metadata": {},
     "output_type": "execute_result"
    }
   ],
   "source": [
    "model_q2.get_topic_freq().head(12)"
   ]
  },
  {
   "cell_type": "code",
   "execution_count": 158,
   "metadata": {},
   "outputs": [
    {
     "data": {
      "text/plain": [
       "[('retail', 0.006666328578305605),\n",
       " ('customer', 0.00584366951309835),\n",
       " ('store', 0.005433402218796873),\n",
       " ('stores', 0.0048486683250258105),\n",
       " ('sales', 0.003540243344517426),\n",
       " ('busy', 0.002415645762065477),\n",
       " ('cashier', 0.002395945240704384),\n",
       " ('shop', 0.0020926672535164594),\n",
       " ('merchandise', 0.0019786879670750275),\n",
       " ('regulars', 0.0017543463762702922)]"
      ]
     },
     "execution_count": 158,
     "metadata": {},
     "output_type": "execute_result"
    }
   ],
   "source": [
    "model_q2.get_topic(0)"
   ]
  },
  {
   "cell_type": "code",
   "execution_count": 159,
   "metadata": {},
   "outputs": [
    {
     "data": {
      "text/plain": [
       "[('teams', 0.014597174029993528),\n",
       " ('members', 0.012504441315754428),\n",
       " ('teamwork', 0.010489788333237998),\n",
       " ('players', 0.005180188142345367),\n",
       " ('teammates', 0.00391131224659151),\n",
       " ('collaboration', 0.003079357173000116),\n",
       " ('supportive', 0.0030517053831065704),\n",
       " ('support', 0.0027712954253482423),\n",
       " ('group', 0.0021351268792358267),\n",
       " ('goals', 0.0019878747391036617)]"
      ]
     },
     "execution_count": 159,
     "metadata": {},
     "output_type": "execute_result"
    }
   ],
   "source": [
    "model_q2.get_topic(1)"
   ]
  },
  {
   "cell_type": "code",
   "execution_count": 160,
   "metadata": {},
   "outputs": [
    {
     "data": {
      "text/plain": [
       "[('vacation', 0.031547121577599466),\n",
       " ('holidays', 0.019264186973232702),\n",
       " ('holiday', 0.01537578381768797),\n",
       " ('weeks', 0.012208881021730558),\n",
       " ('days', 0.010433098289656662),\n",
       " ('vacations', 0.008108476846836077),\n",
       " ('christmas', 0.006780931523648347),\n",
       " ('pto', 0.003924131996028445),\n",
       " ('weekends', 0.0036918374045146283),\n",
       " ('vacationsick', 0.0033075286553521403)]"
      ]
     },
     "execution_count": 160,
     "metadata": {},
     "output_type": "execute_result"
    }
   ],
   "source": [
    "model_q2.get_topic(2)"
   ]
  },
  {
   "cell_type": "code",
   "execution_count": 161,
   "metadata": {},
   "outputs": [
    {
     "data": {
      "text/plain": [
       "[('hired', 0.007968133258039675),\n",
       " ('tasks', 0.006500017163346344),\n",
       " ('stress', 0.004789803445452493),\n",
       " ('repetitive', 0.004199804294148341),\n",
       " ('hang', 0.0038777620927860543),\n",
       " ('hiring', 0.0028561085245385268),\n",
       " ('busy', 0.002765780621554841),\n",
       " ('turnover', 0.0027496479819638492),\n",
       " ('workload', 0.002684444207415232),\n",
       " ('monkey', 0.0024797554432755844)]"
      ]
     },
     "execution_count": 161,
     "metadata": {},
     "output_type": "execute_result"
    }
   ],
   "source": [
    "model_q2.get_topic(3)"
   ]
  },
  {
   "cell_type": "code",
   "execution_count": 162,
   "metadata": {},
   "outputs": [
    {
     "data": {
      "text/plain": [
       "[('401k', 0.031054079475177177),\n",
       " ('match', 0.02651629592642781),\n",
       " ('matching', 0.018286747796391632),\n",
       " ('401', 0.011153974142230802),\n",
       " ('pension', 0.007031900833722693),\n",
       " ('insurance', 0.0062682565358799895),\n",
       " ('espp', 0.003756503457136693),\n",
       " ('hsa', 0.0036308898580549283),\n",
       " ('matches', 0.003577727132721555),\n",
       " ('matched', 0.0035256401545351603)]"
      ]
     },
     "execution_count": 162,
     "metadata": {},
     "output_type": "execute_result"
    }
   ],
   "source": [
    "model_q2.get_topic(4)"
   ]
  },
  {
   "cell_type": "code",
   "execution_count": 163,
   "metadata": {},
   "outputs": [
    {
     "data": {
      "text/plain": [
       "[('food', 0.030899025264581586),\n",
       " ('lunch', 0.023506603613495065),\n",
       " ('meals', 0.010668167768909463),\n",
       " ('lunches', 0.010083583316762842),\n",
       " ('meal', 0.008095131187550312),\n",
       " ('eat', 0.005669550869714724),\n",
       " ('breakfast', 0.0053973347917139645),\n",
       " ('tips', 0.005284525189685026),\n",
       " ('break', 0.004652564621712564),\n",
       " ('clean', 0.003304568742139005)]"
      ]
     },
     "execution_count": 163,
     "metadata": {},
     "output_type": "execute_result"
    }
   ],
   "source": [
    "model_q2.get_topic(5)"
   ]
  },
  {
   "cell_type": "code",
   "execution_count": 164,
   "metadata": {},
   "outputs": [
    {
     "data": {
      "text/plain": [
       "[('corporation', 0.004752034919637036),\n",
       " ('retirement', 0.004588805484330745),\n",
       " ('benefit', 0.003208538365034926),\n",
       " ('offers', 0.002751846623461597),\n",
       " ('savings', 0.0023561817247493982),\n",
       " ('profitable', 0.002173167545989346),\n",
       " ('corporate', 0.0020942919055842845),\n",
       " ('profit', 0.002041493798892333),\n",
       " ('advantages', 0.001952257414568537),\n",
       " ('satisfaction', 0.0019314576399658417)]"
      ]
     },
     "execution_count": 164,
     "metadata": {},
     "output_type": "execute_result"
    }
   ],
   "source": [
    "model_q2.get_topic(6)"
   ]
  },
  {
   "cell_type": "code",
   "execution_count": 165,
   "metadata": {},
   "outputs": [
    {
     "data": {
      "text/plain": [
       "[('paycheck', 0.028041171842957405),\n",
       " ('bills', 0.013266240208713849),\n",
       " ('unemployment', 0.0079070796941613),\n",
       " ('taxes', 0.007427601052577559),\n",
       " ('pays', 0.006908228967041416),\n",
       " ('paid', 0.006412608848122357),\n",
       " ('wage', 0.00580175089931942),\n",
       " ('money', 0.00437956119467147),\n",
       " ('paying', 0.004040384493155986),\n",
       " ('welfare', 0.003785552230031057)]"
      ]
     },
     "execution_count": 165,
     "metadata": {},
     "output_type": "execute_result"
    }
   ],
   "source": [
    "model_q2.get_topic(7)"
   ]
  },
  {
   "cell_type": "code",
   "execution_count": 166,
   "metadata": {},
   "outputs": [
    {
     "data": {
      "text/plain": [
       "[('security', 0.06987112179625614),\n",
       " ('secure', 0.018500323810320525),\n",
       " ('stability', 0.005602661742790508),\n",
       " ('firing', 0.0037148175742455925),\n",
       " ('safety', 0.0036381107271309704),\n",
       " ('safe', 0.003635308927078951),\n",
       " ('secured', 0.0033047683958381266),\n",
       " ('guards', 0.003088992436528315),\n",
       " ('breach', 0.003088992436528315),\n",
       " ('guaranteed', 0.0029428778205216046)]"
      ]
     },
     "execution_count": 166,
     "metadata": {},
     "output_type": "execute_result"
    }
   ],
   "source": [
    "model_q2.get_topic(8)"
   ]
  },
  {
   "cell_type": "code",
   "execution_count": 167,
   "metadata": {},
   "outputs": [
    {
     "data": {
      "text/plain": [
       "[('worst', 0.010901278347158072),\n",
       " ('positive', 0.00747471396337335),\n",
       " ('doesnt', 0.0058788863991232265),\n",
       " ('horrible', 0.0057182765867549255),\n",
       " ('terrible', 0.004870678828502189),\n",
       " ('worse', 0.004445858253625683),\n",
       " ('bad', 0.0041882790544013815),\n",
       " ('pathetic', 0.0038480655795122823),\n",
       " ('arent', 0.003812434694820603),\n",
       " ('positives', 0.00372742423260453)]"
      ]
     },
     "execution_count": 167,
     "metadata": {},
     "output_type": "execute_result"
    }
   ],
   "source": [
    "model_q2.get_topic(9)"
   ]
  },
  {
   "cell_type": "code",
   "execution_count": 168,
   "metadata": {},
   "outputs": [
    {
     "data": {
      "text/plain": [
       "[('overtime', 0.08215419038262499),\n",
       " ('mandatory', 0.009140726824896762),\n",
       " ('snacks', 0.00798753139635513),\n",
       " ('required', 0.006081556999353247),\n",
       " ('offered', 0.003679515964126769),\n",
       " ('bonuses', 0.0034358931051046327),\n",
       " ('fmc', 0.0031795623188577557),\n",
       " ('allowed', 0.003099741424554646),\n",
       " ('paid', 0.002912973975365532),\n",
       " ('incentive', 0.002901566576972971)]"
      ]
     },
     "execution_count": 168,
     "metadata": {},
     "output_type": "execute_result"
    }
   ],
   "source": [
    "model_q2.get_topic(10)"
   ]
  },
  {
   "cell_type": "code",
   "execution_count": null,
   "metadata": {},
   "outputs": [],
   "source": []
  }
 ],
 "metadata": {
  "kernelspec": {
   "display_name": "Python 3",
   "language": "python",
   "name": "python3"
  },
  "language_info": {
   "codemirror_mode": {
    "name": "ipython",
    "version": 3
   },
   "file_extension": ".py",
   "mimetype": "text/x-python",
   "name": "python",
   "nbconvert_exporter": "python",
   "pygments_lexer": "ipython3",
   "version": "3.8.5"
  }
 },
 "nbformat": 4,
 "nbformat_minor": 4
}
